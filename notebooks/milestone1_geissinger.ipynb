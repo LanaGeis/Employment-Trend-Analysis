{
 "cells": [
  {
   "metadata": {},
   "cell_type": "markdown",
   "source": [
    "# Term Project: Is AI taking our jobs or transforming them?\n",
    "\n",
    "Lana Geissinger\n",
    "Bellevue University\n",
    "DSC540_T303 Data Preparation (2257-1)\n",
    "Professor Catherine Williams\n",
    "Milestone 1\n",
    "June 15, 2025\n"
   ],
   "id": "4c267327e459fdc"
  },
  {
   "metadata": {},
   "cell_type": "markdown",
   "source": [
    "## Project Subject Area:\n",
    "This project will explore how artificial intelligence is impacting the U.S. job market—specifically whether AI technologies are replacing human workers or creating new type of jobs.\n",
    "\n",
    "The idea is to look at the fastest-growing and most-declining industries and occupations and see if there's a connection—like whether people are getting pushed out of the workforce or just shifting into totally different jobs. Like the Third Industrial Revolution(Information Age) converted work from analog format to digital technology, the Fourth Industrial Revolution just started to begin impacting the job market with breakthrough artificial intelligence.\n",
    "\n",
    "Information Age did not illuminate human workers - it just transformed how we work by adding new industries and occupations. The project will explore if AI is creating a similar shift today, just in different industries.\n",
    "\n",
    "The plan is to focus on a few industries and occupations to analyze more in-depth, with the flexibility to adjust if identifying new patterns."
   ],
   "id": "5fcd6ac7b30dfe16"
  },
  {
   "metadata": {},
   "cell_type": "markdown",
   "source": "## Data Sources:",
   "id": "d0a59f1de2ca860"
  },
  {
   "metadata": {},
   "cell_type": "markdown",
   "source": [
    "### Flat File\n",
    "**Description of data source:**\n",
    "Bureau of Labor Statistics (BLS) - the 2018 SOC Structure is a federal system used to classify and organize all occupations in the U.S. labor market. It groups workers into 23 major categories, with detailed 6-digit SOC codes for standardized comparison across datasets and time. This will be used to organize data by occupation.\n",
    "**Link:** [https://www.bls.gov/oes/tables.htm]\n",
    "\n",
    "**Description of data source:**\n",
    "U. S. Census Bureau – NAICS structure by industry to organize analysis by industry<\n",
    "**Link:** [https://www.census.gov/naics/?48967]\n",
    "\n",
    "**Description of data source:**\n",
    "ONET Skills file – Provide a mapping of O*NET-SOC codes (occupations) to Skill ratings.\n",
    "**Link:** [https://www.onetcenter.org/dictionary/29.3/excel/skills.html]"
   ],
   "id": "2f69bf21e1abe39d"
  },
  {
   "metadata": {},
   "cell_type": "markdown",
   "source": [
    "### API\n",
    "**Description of data source:**\n",
    "Bureau of Labor Statistics Public Data API\n",
    "Bureau of Labor Statistics (BLS) Developers Portal - BLS Public Data API to get industry-level and occupation-level data using series IDs.\n",
    "**Link:**\n",
    "[https://www.bls.gov/developers/]\n",
    "\n",
    "**Description of data source:**\n",
    "O*NET Web Services - API provides occupation-level data including job tasks, required skills, work activities, and tools & technologies used. This will be used to analyze job trend due to AI—whether tasks are being automated or new tools are being introduced.\n",
    "**Link:**\n",
    "[https://services.onetcenter.org/developer/]\n"
   ],
   "id": "1596177a43a4b599"
  },
  {
   "metadata": {},
   "cell_type": "markdown",
   "source": [
    "### Website\n",
    "**Description of data source:**\n",
    "U.S. Bureau of Labor Statistics (BLS) \"Fastest declining occupations\" table presents occupations projected to have the largest percentage decline in employment between 2022 and 2032. It highlights jobs most at risk of automation, outsourcing, or shifting industry trends\n",
    "**Link:**\n",
    "[https://www.bls.gov/emp/tables/fastest-declining-occupations.htm]\n",
    "\n",
    "**Description of data source:**\n",
    "U.S. Bureau of Labor Statistics (BLS) \"Fastest growing occupations\" table lists occupations expected to grow the fastest from 2022 to 2032.\n",
    "**Link:**\n",
    "[https://www.bls.gov/emp/tables/fastest-growing-occupations.htm]\n"
   ],
   "id": "c23a8f64475ac4df"
  },
  {
   "metadata": {},
   "cell_type": "markdown",
   "source": [
    "## Relationships\n",
    "**CSV File:** Contains a SOC Structure from BLS which organizes occupations by SOC code and NAICS Structure from the US Census Bureau organizes industries by NAISC codes. ONET Skills data set provides a mapping of ONET-SOC codes (occupations) to skill ratings.\n",
    "**Website:** Contains projections of occupations that use SOC codes.<br>\n",
    "**API:** O*NET API provides information on occupations by SOC codes.<br>\n",
    "BLS API returns data by industry and occupation over time using NAISC codes and SOC codes.\n",
    "\n",
    "All 3 of these data sources are related by SOC and ONET codes. The SOC Structure CSV file has 1 to many relationships with the Website by SOC codes and has a 1 to many relationship with the API data by SOC codes as well. NAICS Structure CSV has 1 to many relationships with the API data by NAISC codes."
   ],
   "id": "7b232d64b86a6455"
  },
  {
   "metadata": {},
   "cell_type": "markdown",
   "source": [
    "## Project approach/plan\n",
    "This project explores how artificial intelligence (AI) impacts the U.S. job market—whether replacing human workers or transforming their roles. The plan is to analyze a limited number of occupations within possibly three industries to understand trends in job growth, decline, and transformation due to AI.\n",
    "The approach involves integrating these data sources:\n",
    "A flat file with occupation (SOC) and industry (NAICS) structures will be used to organize the analysis.\n",
    "An API connection to O*NET for detailed occupation-level data on skills, tasks, and technologies and BLS for historical and projected employment data.<br>\n",
    "A website source from BLS shows occupations with the highest projected growth and decline between 2022 and 2032.\n",
    "The project will explore possible patterns by linking these datasets using SOC and NAICS codes, such as whether declining job demand (not the same occupations) in one industry grows in another.\n",
    "Whether my analysis will focus on the occupation level, industry level, or a combination of both has not been finally decided.\n"
   ],
   "id": "1060850b289eacb0",
   "attachments": {
    "9efd2fd6-a6c0-48ad-a013-95184ab96531.png": {
     "image/png": "[encoded data removed]"
    },
    "d956ee9f-ff88-44a9-b28f-c1646b00d45a.png": {
     "image/png": "[encoded data removed]"
    },
    "6cbdabd9-f1d5-452b-93e0-003ba906f659.png": {
     "image/png": "[encoded data removed]"
    }
   }
  },
  {
   "metadata": {},
   "cell_type": "markdown",
   "source": [
    "### What concerns/challenges with the data/project topic\n",
    "**With Data**<br>\n",
    "The challenge with data will be keeping everything well-structured. Calling the API using series IDs looks pretty complicated, and the API part will be the most difficult due to the most complex data format.\n",
    "Getting back into Python will be another challenge since I have a break from Python and need to refresh many things.\n",
    "**With Project Topic**\n",
    "The challenge with data will be keeping everything well-structured. Calling the API using series IDs looks pretty complicated, and the API part will be the most difficult due to the most complex data format.\n",
    "Getting back into Python will be another challenge since I have a break from Python and need to refresh many things."
   ],
   "id": "60775c80f2b35a28"
  },
  {
   "metadata": {},
   "cell_type": "markdown",
   "source": [
    "## Ethical Implications of the project topic\n",
    "There are ethical implications to consider. AI can make work more efficient but also risk pushing certain workers, especially administrative and technology entry-level jobs – most vulnerable groups with fever resources for retraining. Focus on productivity gains and cost cutting should not be more important than social responsibility.\n",
    "At the same time, we have seen this before. During the Third Industrial Revolution, automation led many people to leave manufacturing jobs—but it also gave rise to entirely new industries, like information technology, that did not exist before. People with different skill levels were able to find their place in that new world, although some workers were left behind. This project will analyze if something similar is happening now with AI, just in a different form.\n",
    "I also recognize some personal bias—I believe AI is more good than bad and can improve our lives. But at the same time, there are real concerns. While AI helps some industries grow, it is also taking away jobs and income for many people.<br>\n",
    "There is also the issue of how to protect workers during this transition period. From HR perspective, ethical decision making should include special retraining programs that help retain workers instead of laying them off.\n",
    "One of the biggest issues is that AI is moving faster than the regulations. There is still a lack of clear rules and ethical norms, and in my opinion, that needs to be fixed before we rely too heavily on AI."
   ],
   "id": "719250a1aba62157",
   "attachments": {
    "083de2a4-1003-46a4-a23d-d48411c77d0c.png": {
     "image/png": "[encoded data removed]"
    }
   }
  }
 ],
 "metadata": {
  "kernelspec": {
   "display_name": "Python [conda env:pycharm_env]",
   "language": "python",
   "name": "conda-env-pycharm_env-py"
  },
  "language_info": {
   "codemirror_mode": {
    "name": "ipython",
    "version": 2
   },
   "file_extension": ".py",
   "mimetype": "text/x-python",
   "name": "python",
   "nbconvert_exporter": "python",
   "pygments_lexer": "ipython2",
   "version": "2.7.6"
  }
 },
 "nbformat": 4,
 "nbformat_minor": 5
}
