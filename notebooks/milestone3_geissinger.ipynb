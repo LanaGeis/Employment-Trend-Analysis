{
 "cells": [
  {
   "metadata": {},
   "cell_type": "markdown",
   "source": [
    "# Term Project: Is AI taking our jobs or transforming them?\n",
    "\n",
    "Lana Geissinger\n",
    "Bellevue University\n",
    "DSC540_T303 Data Preparation (2257-1)\n",
    "Professor Catherine Williams\n",
    "Milestone 3\n",
    "July 13, 2025\n"
   ],
   "id": "6612d35a15eef068"
  },
  {
   "metadata": {},
   "cell_type": "markdown",
   "source": "## <u>Cleaning/Formatting Website Data</u>",
   "id": "6131f1348ad4659d"
  },
  {
   "metadata": {
    "ExecuteTime": {
     "end_time": "2025-08-09T12:48:44.103157Z",
     "start_time": "2025-08-09T12:48:43.580703Z"
    }
   },
   "cell_type": "code",
   "source": [
    "import pandas as pd\n",
    "import requests\n",
    "from bs4 import BeautifulSoup\n",
    "from dotenv import load_dotenv\n",
    "import os\n",
    "import numpy as np\n"
   ],
   "id": "76838d6e567804e9",
   "outputs": [],
   "execution_count": 1
  },
  {
   "metadata": {
    "ExecuteTime": {
     "end_time": "2025-08-09T12:48:44.293281Z",
     "start_time": "2025-08-09T12:48:44.247494Z"
    }
   },
   "cell_type": "code",
   "source": [
    "# Load environment variables\n",
    "load_dotenv('../env_var.env')\n",
    "declining_path = os.getenv('declining_path')\n",
    "growing_path = os.getenv('growing_path')\n",
    "\n",
    "# Preview data\n",
    "if declining_path and growing_path:\n",
    "    try:\n",
    "        # Verify files exist\n",
    "        if os.path.exists(declining_path) and os.path.exists(growing_path):\n",
    "            # Read HTML tables into dataframes\n",
    "            df_declining = pd.read_html(declining_path)[0]\n",
    "            df_growing = pd.read_html(growing_path)[0]\n",
    "\n",
    "            print(\"DataFrame for Declining Occupations:\")\n",
    "            print(df_declining.head(5))\n",
    "            print(df_declining.info())\n",
    "            print(\"\\nDataFrame for Growing Occupations:\")\n",
    "            print(df_growing.head(5))\n",
    "            print(df_growing.info())\n",
    "        else:\n",
    "            print(\"One or both HTML files do not exist at the specified paths\")\n",
    "\n",
    "    except Exception as e:\n",
    "        print(f\"An unexpected error occurred: {e}\")\n",
    "else:\n",
    "    print(\"Error: One or both environment variables for file paths are not set or invalid.\")\n"
   ],
   "id": "451c600566658a38",
   "outputs": [
    {
     "name": "stdout",
     "output_type": "stream",
     "text": [
      "DataFrame for Declining Occupations:\n",
      "               2023 National Employment Matrix title  \\\n",
      "0                             Total, all occupations   \n",
      "1                        Word processors and typists   \n",
      "2                               Roof bolters, mining   \n",
      "3                                Telephone operators   \n",
      "4  Switchboard operators, including answering ser...   \n",
      "\n",
      "  2023 National Employment Matrix code Employment, 2023 Employment, 2033  \\\n",
      "0                              00-0000         167849.8         174589.0   \n",
      "1                              43-9022             39.9             24.8   \n",
      "2                              47-5043              2.0              1.4   \n",
      "3                              43-2021              4.7              3.5   \n",
      "4                              43-2011             44.9             33.6   \n",
      "\n",
      "  Employment change, numeric, 2023-33 Employment change, percent, 2023-33  \\\n",
      "0                              6739.2                                 4.0   \n",
      "1                               -15.2                               -38.0   \n",
      "2                                -0.6                               -32.0   \n",
      "3                                -1.2                               -26.4   \n",
      "4                               -11.3                               -25.2   \n",
      "\n",
      "  Median annual wage, dollars, 2024[1]  \n",
      "0                                49500  \n",
      "1                                47850  \n",
      "2                                76640  \n",
      "3                                39130  \n",
      "4                                38370  \n",
      "<class 'pandas.core.frame.DataFrame'>\n",
      "RangeIndex: 32 entries, 0 to 31\n",
      "Data columns (total 7 columns):\n",
      " #   Column                                 Non-Null Count  Dtype \n",
      "---  ------                                 --------------  ----- \n",
      " 0   2023 National Employment Matrix title  32 non-null     object\n",
      " 1   2023 National Employment Matrix code   32 non-null     object\n",
      " 2   Employment, 2023                       32 non-null     object\n",
      " 3   Employment, 2033                       32 non-null     object\n",
      " 4   Employment change, numeric, 2023-33    32 non-null     object\n",
      " 5   Employment change, percent, 2023-33    32 non-null     object\n",
      " 6   Median annual wage, dollars, 2024[1]   32 non-null     object\n",
      "dtypes: object(7)\n",
      "memory usage: 1.9+ KB\n",
      "None\n",
      "\n",
      "DataFrame for Growing Occupations:\n",
      "  2023 National Employment Matrix title 2023 National Employment Matrix code  \\\n",
      "0                Total, all occupations                              00-0000   \n",
      "1      Wind turbine service technicians                              49-9081   \n",
      "2         Solar photovoltaic installers                              47-2231   \n",
      "3                   Nurse practitioners                              29-1171   \n",
      "4                       Data scientists                              15-2051   \n",
      "\n",
      "  Employment, 2023 Employment, 2033 Employment change, numeric, 2023-33  \\\n",
      "0         167849.8         174589.0                              6739.2   \n",
      "1             11.4             18.2                                 6.8   \n",
      "2             25.0             37.0                                12.0   \n",
      "3            292.5            427.9                               135.5   \n",
      "4            202.9            276.0                                73.1   \n",
      "\n",
      "  Employment change, percent, 2023-33 Median annual wage, dollars, 2024[1]  \n",
      "0                                 4.0                                49500  \n",
      "1                                60.1                                62580  \n",
      "2                                48.0                                51860  \n",
      "3                                46.3                               129210  \n",
      "4                                36.0                               112590  \n",
      "<class 'pandas.core.frame.DataFrame'>\n",
      "RangeIndex: 32 entries, 0 to 31\n",
      "Data columns (total 7 columns):\n",
      " #   Column                                 Non-Null Count  Dtype \n",
      "---  ------                                 --------------  ----- \n",
      " 0   2023 National Employment Matrix title  32 non-null     object\n",
      " 1   2023 National Employment Matrix code   32 non-null     object\n",
      " 2   Employment, 2023                       32 non-null     object\n",
      " 3   Employment, 2033                       32 non-null     object\n",
      " 4   Employment change, numeric, 2023-33    32 non-null     object\n",
      " 5   Employment change, percent, 2023-33    32 non-null     object\n",
      " 6   Median annual wage, dollars, 2024[1]   32 non-null     object\n",
      "dtypes: object(7)\n",
      "memory usage: 1.9+ KB\n",
      "None\n"
     ]
    }
   ],
   "execution_count": 2
  },
  {
   "metadata": {
    "ExecuteTime": {
     "end_time": "2025-08-09T12:48:44.349919Z",
     "start_time": "2025-08-09T12:48:44.319791Z"
    }
   },
   "cell_type": "code",
   "source": [
    "# Step 1: Clean column names\n",
    "## Create function to remove spaces and convert to lower case for easier access\n",
    "## Call function for both dataframes\n",
    "## Verify the result\n",
    "\n",
    "def clean_column_names(df):\n",
    "    return df.rename(columns=lambda x: x.replace(' ', '_').lower())\n",
    "\n",
    "\n",
    "df_declining = clean_column_names(df_declining)\n",
    "df_growing = clean_column_names(df_growing)\n",
    "\n",
    "print(\"DataFrame for Declining Occupations:\")\n",
    "print(df_declining.head(5))\n",
    "\n",
    "print(\"DataFrame for Growing Occupations:\")\n",
    "print(df_growing.head(5))\n"
   ],
   "id": "120cd6cccd307d26",
   "outputs": [
    {
     "name": "stdout",
     "output_type": "stream",
     "text": [
      "DataFrame for Declining Occupations:\n",
      "               2023_national_employment_matrix_title  \\\n",
      "0                             Total, all occupations   \n",
      "1                        Word processors and typists   \n",
      "2                               Roof bolters, mining   \n",
      "3                                Telephone operators   \n",
      "4  Switchboard operators, including answering ser...   \n",
      "\n",
      "  2023_national_employment_matrix_code employment,_2023 employment,_2033  \\\n",
      "0                              00-0000         167849.8         174589.0   \n",
      "1                              43-9022             39.9             24.8   \n",
      "2                              47-5043              2.0              1.4   \n",
      "3                              43-2021              4.7              3.5   \n",
      "4                              43-2011             44.9             33.6   \n",
      "\n",
      "  employment_change,_numeric,_2023-33 employment_change,_percent,_2023-33  \\\n",
      "0                              6739.2                                 4.0   \n",
      "1                               -15.2                               -38.0   \n",
      "2                                -0.6                               -32.0   \n",
      "3                                -1.2                               -26.4   \n",
      "4                               -11.3                               -25.2   \n",
      "\n",
      "  median_annual_wage,_dollars,_2024[1]  \n",
      "0                                49500  \n",
      "1                                47850  \n",
      "2                                76640  \n",
      "3                                39130  \n",
      "4                                38370  \n",
      "DataFrame for Growing Occupations:\n",
      "  2023_national_employment_matrix_title 2023_national_employment_matrix_code  \\\n",
      "0                Total, all occupations                              00-0000   \n",
      "1      Wind turbine service technicians                              49-9081   \n",
      "2         Solar photovoltaic installers                              47-2231   \n",
      "3                   Nurse practitioners                              29-1171   \n",
      "4                       Data scientists                              15-2051   \n",
      "\n",
      "  employment,_2023 employment,_2033 employment_change,_numeric,_2023-33  \\\n",
      "0         167849.8         174589.0                              6739.2   \n",
      "1             11.4             18.2                                 6.8   \n",
      "2             25.0             37.0                                12.0   \n",
      "3            292.5            427.9                               135.5   \n",
      "4            202.9            276.0                                73.1   \n",
      "\n",
      "  employment_change,_percent,_2023-33 median_annual_wage,_dollars,_2024[1]  \n",
      "0                                 4.0                                49500  \n",
      "1                                60.1                                62580  \n",
      "2                                48.0                                51860  \n",
      "3                                46.3                               129210  \n",
      "4                                36.0                               112590  \n"
     ]
    }
   ],
   "execution_count": 3
  },
  {
   "metadata": {
    "ExecuteTime": {
     "end_time": "2025-08-09T12:48:44.392937Z",
     "start_time": "2025-08-09T12:48:44.375488Z"
    }
   },
   "cell_type": "code",
   "source": [
    "# Step 2: Remove footnotes and convert numeric data types, removing any commas\n",
    "## Remove any rows containing 'Footnote' in the title column\n",
    "## Convert numeric columns to correct data types after removing commas\n",
    "## Process both dataframes and verify the converted data types\n",
    "\n",
    "def remove_footnotes_and_convert_types(df):\n",
    "    # Make a copy to avoid the SettingWithCopyWarning:\n",
    "    df = df.copy()\n",
    "\n",
    "    mask = ~df['2023_national_employment_matrix_title'].str.contains('Footnote', na=False)\n",
    "    df = df[mask].copy()\n",
    "\n",
    " # Store the matrix code column separately\n",
    "    matrix_code = df['2023_national_employment_matrix_code'].copy()\n",
    "\n",
    "    for col in df.columns:\n",
    "        # Skip the matrix code column and the first column (title)\n",
    "        if col == '2023_national_employment_matrix_code' or df.columns.get_loc(col) == 0:\n",
    "            continue\n",
    "\n",
    "        # Remove footnotes and clean the data\n",
    "        temp = df[col].astype(str).apply(lambda x: x.split('[')[0].strip())\n",
    "\n",
    "        # Convert to numeric columns\n",
    "        df[col] = pd.to_numeric(temp, errors='coerce').astype('Float64')\n",
    "\n",
    "    # Restore the matrix code column\n",
    "    df['2023_national_employment_matrix_code'] = matrix_code\n",
    "\n",
    "    return df\n",
    "\n",
    "\n",
    "\n",
    "\n",
    "df_declining = remove_footnotes_and_convert_types(df_declining)\n",
    "df_growing = remove_footnotes_and_convert_types(df_growing)\n",
    "\n",
    "print(\"Verify data types for Declining Occupations:\")\n",
    "print(df_declining.dtypes)\n",
    "\n",
    "print(\"Verify data types for Growing Occupations:\")\n",
    "print(df_growing.dtypes)\n"
   ],
   "id": "579e7a86e87238bc",
   "outputs": [
    {
     "name": "stdout",
     "output_type": "stream",
     "text": [
      "Verify data types for Declining Occupations:\n",
      "2023_national_employment_matrix_title     object\n",
      "2023_national_employment_matrix_code      object\n",
      "employment,_2023                         Float64\n",
      "employment,_2033                         Float64\n",
      "employment_change,_numeric,_2023-33      Float64\n",
      "employment_change,_percent,_2023-33      Float64\n",
      "median_annual_wage,_dollars,_2024[1]     Float64\n",
      "dtype: object\n",
      "Verify data types for Growing Occupations:\n",
      "2023_national_employment_matrix_title     object\n",
      "2023_national_employment_matrix_code      object\n",
      "employment,_2023                         Float64\n",
      "employment,_2033                         Float64\n",
      "employment_change,_numeric,_2023-33      Float64\n",
      "employment_change,_percent,_2023-33      Float64\n",
      "median_annual_wage,_dollars,_2024[1]     Float64\n",
      "dtype: object\n"
     ]
    }
   ],
   "execution_count": 4
  },
  {
   "metadata": {
    "ExecuteTime": {
     "end_time": "2025-08-09T12:48:44.426828Z",
     "start_time": "2025-08-09T12:48:44.412589Z"
    }
   },
   "cell_type": "code",
   "source": [
    "# Step 3: Merge declining and growing datasets and create combined dataset\n",
    "\n",
    "def create_combined_dataset(df_declining, df_growing):\n",
    "    df_declining['growth_status'] = 'Declining'\n",
    "    df_growing['growth_status'] = 'Growing'\n",
    "    return pd.concat([df_declining, df_growing], ignore_index=True)\n",
    "\n",
    "df_combined = create_combined_dataset(df_declining, df_growing)\n",
    "\n",
    "print(\"Combined dataset shape:\", df_combined.shape)\n",
    "print(\"\\nGrowth status distribution:\")\n",
    "print(df_combined['growth_status'].value_counts())\n"
   ],
   "id": "d27ec410f05858e6",
   "outputs": [
    {
     "name": "stdout",
     "output_type": "stream",
     "text": [
      "Combined dataset shape: (62, 8)\n",
      "\n",
      "Growth status distribution:\n",
      "growth_status\n",
      "Declining    31\n",
      "Growing      31\n",
      "Name: count, dtype: int64\n"
     ]
    }
   ],
   "execution_count": 5
  },
  {
   "metadata": {
    "ExecuteTime": {
     "end_time": "2025-08-09T12:48:44.457593Z",
     "start_time": "2025-08-09T12:48:44.442107Z"
    }
   },
   "cell_type": "code",
   "source": [
    "# Step 4: Create function to calculate derived metrics(annual change rate) and clean occupational titles and call for combined dataset\n",
    "\n",
    "\n",
    "def add_derived_metrics(df):\n",
    "    # Check for the correct column name\n",
    "    employment_change_columns = [col for col in df.columns if 'employment_change' in col.lower()]\n",
    "\n",
    "    if employment_change_columns:\n",
    "        employment_change_col = employment_change_columns[0]\n",
    "        # Calculate annual change rate\n",
    "        df['annual_change_rate'] = df[employment_change_col] / 10\n",
    "    else:\n",
    "        df['annual_change_rate'] = 0\n",
    "        print(\"Warning: No employment change column found\")\n",
    "\n",
    "    # Convert code column to string before extracting first 2 characters\n",
    "    df['occupation_category'] = df['2023_national_employment_matrix_code'].astype(str).str[:2]\n",
    "\n",
    "    df['2023_national_employment_matrix_title'] = (\n",
    "        df['2023_national_employment_matrix_title']\n",
    "        .str.strip()\n",
    "        .str.title()\n",
    "    )\n",
    "\n",
    "    return df\n",
    "\n",
    "\n",
    "df_combined = add_derived_metrics(df_combined)\n",
    "\n",
    "print(\"Combined Dataset of Fastest Growing and Declining Occupations:\")\n",
    "print(df_combined[['2023_national_employment_matrix_title',\n",
    "                   'occupation_category','2023_national_employment_matrix_code',\n",
    "                   'annual_change_rate']].head())"
   ],
   "id": "1e0e1fc84fb907fc",
   "outputs": [
    {
     "name": "stdout",
     "output_type": "stream",
     "text": [
      "Combined Dataset of Fastest Growing and Declining Occupations:\n",
      "               2023_national_employment_matrix_title occupation_category  \\\n",
      "0                             Total, All Occupations                  00   \n",
      "1                        Word Processors And Typists                  43   \n",
      "2                               Roof Bolters, Mining                  47   \n",
      "3                                Telephone Operators                  43   \n",
      "4  Switchboard Operators, Including Answering Ser...                  43   \n",
      "\n",
      "  2023_national_employment_matrix_code  annual_change_rate  \n",
      "0                              00-0000              673.92  \n",
      "1                              43-9022               -1.52  \n",
      "2                              47-5043               -0.06  \n",
      "3                              43-2021               -0.12  \n",
      "4                              43-2011               -1.13  \n"
     ]
    }
   ],
   "execution_count": 6
  },
  {
   "metadata": {
    "ExecuteTime": {
     "end_time": "2025-08-09T12:48:44.523614Z",
     "start_time": "2025-08-09T12:48:44.479614Z"
    }
   },
   "cell_type": "code",
   "source": [
    "# Step 5: Display final dataset information\n",
    "print(\"Combined Dataset of Fastest Growing and Declining Occupations:\")\n",
    "print(df_combined.info())\n",
    "\n",
    "print(\"\\nSummary Statistics for Numeric Columns:\")\n",
    "print(df_combined.describe())\n",
    "\n",
    "# Save the number of records in each category\n",
    "occupation_counts = df_combined['occupation_category'].value_counts()\n",
    "print(\"\\nOccupation Categories Distribution:\")\n",
    "print(occupation_counts)\n"
   ],
   "id": "35d4fde113c43205",
   "outputs": [
    {
     "name": "stdout",
     "output_type": "stream",
     "text": [
      "Combined Dataset of Fastest Growing and Declining Occupations:\n",
      "<class 'pandas.core.frame.DataFrame'>\n",
      "RangeIndex: 62 entries, 0 to 61\n",
      "Data columns (total 10 columns):\n",
      " #   Column                                 Non-Null Count  Dtype  \n",
      "---  ------                                 --------------  -----  \n",
      " 0   2023_national_employment_matrix_title  62 non-null     object \n",
      " 1   2023_national_employment_matrix_code   62 non-null     object \n",
      " 2   employment,_2023                       62 non-null     Float64\n",
      " 3   employment,_2033                       62 non-null     Float64\n",
      " 4   employment_change,_numeric,_2023-33    62 non-null     Float64\n",
      " 5   employment_change,_percent,_2023-33    62 non-null     Float64\n",
      " 6   median_annual_wage,_dollars,_2024[1]   62 non-null     Float64\n",
      " 7   growth_status                          62 non-null     object \n",
      " 8   annual_change_rate                     62 non-null     Float64\n",
      " 9   occupation_category                    62 non-null     object \n",
      "dtypes: Float64(6), object(4)\n",
      "memory usage: 5.3+ KB\n",
      "None\n",
      "\n",
      "Summary Statistics for Numeric Columns:\n",
      "       employment,_2023  employment,_2033  \\\n",
      "count              62.0              62.0   \n",
      "mean        5611.203226       5861.603226   \n",
      "std        29867.313348      31063.636236   \n",
      "min                 0.4               0.3   \n",
      "25%                15.2              18.4   \n",
      "50%               66.25             70.35   \n",
      "75%               176.5            209.85   \n",
      "max            167849.8          174589.0   \n",
      "\n",
      "       employment_change,_numeric,_2023-33  \\\n",
      "count                                 62.0   \n",
      "mean                            250.403226   \n",
      "std                            1199.803341   \n",
      "min                                  -51.4   \n",
      "25%                                  -3.95   \n",
      "50%                                   4.35   \n",
      "75%                                  32.05   \n",
      "max                                 6739.2   \n",
      "\n",
      "       employment_change,_percent,_2023-33  \\\n",
      "count                                 62.0   \n",
      "mean                              2.372581   \n",
      "std                              23.387528   \n",
      "min                                  -38.0   \n",
      "25%                                  -17.8   \n",
      "50%                                    4.0   \n",
      "75%                                   19.3   \n",
      "max                                   60.1   \n",
      "\n",
      "       median_annual_wage,_dollars,_2024[1]  annual_change_rate  \n",
      "count                                  62.0                62.0  \n",
      "mean                           68092.741935           25.040323  \n",
      "std                            33253.803538          119.980334  \n",
      "min                                 34410.0               -5.14  \n",
      "25%                                 43107.5              -0.395  \n",
      "50%                                 54915.0               0.435  \n",
      "75%                                 83205.0               3.205  \n",
      "max                                171200.0              673.92  \n",
      "\n",
      "Occupation Categories Distribution:\n",
      "occupation_category\n",
      "51    13\n",
      "43    10\n",
      "49     6\n",
      "29     6\n",
      "15     6\n",
      "31     5\n",
      "47     3\n",
      "13     3\n",
      "41     2\n",
      "00     2\n",
      "11     2\n",
      "25     2\n",
      "21     1\n",
      "19     1\n",
      "Name: count, dtype: int64\n"
     ]
    }
   ],
   "execution_count": 7
  },
  {
   "metadata": {
    "ExecuteTime": {
     "end_time": "2025-08-09T12:48:44.558650Z",
     "start_time": "2025-08-09T12:48:44.544557Z"
    }
   },
   "cell_type": "code",
   "source": [
    "\n",
    "df_combined = df_combined.copy()\n",
    "# Remove special characters, convert to lowercase, replace spaces with underscores \n",
    "df_combined.columns = (df_combined.columns.str.replace(r'[^a-zA-Z0-9_\\s]', '', regex=True)\n",
    "                       .str.lower()\n",
    "                       .str.replace(' ', '_'))\n"
   ],
   "id": "79d11bbc4c3681bb",
   "outputs": [],
   "execution_count": 8
  },
  {
   "metadata": {
    "ExecuteTime": {
     "end_time": "2025-08-09T12:48:44.589541Z",
     "start_time": "2025-08-09T12:48:44.574923Z"
    }
   },
   "cell_type": "code",
   "source": "print(df_combined.columns)\n",
   "id": "f316445e89aca332",
   "outputs": [
    {
     "name": "stdout",
     "output_type": "stream",
     "text": [
      "Index(['2023_national_employment_matrix_title',\n",
      "       '2023_national_employment_matrix_code', 'employment_2023',\n",
      "       'employment_2033', 'employment_change_numeric_202333',\n",
      "       'employment_change_percent_202333', 'median_annual_wage_dollars_20241',\n",
      "       'growth_status', 'annual_change_rate', 'occupation_category'],\n",
      "      dtype='object')\n"
     ]
    }
   ],
   "execution_count": 9
  },
  {
   "metadata": {
    "ExecuteTime": {
     "end_time": "2025-08-09T12:48:44.635490Z",
     "start_time": "2025-08-09T12:48:44.619549Z"
    }
   },
   "cell_type": "code",
   "source": "df_combined = df_combined.rename(columns={'median_annual_wage_dollars_20241': 'median_annual_wage_dollars_2024'})\n",
   "id": "7e5c1428f69a509a",
   "outputs": [],
   "execution_count": 10
  },
  {
   "metadata": {
    "ExecuteTime": {
     "end_time": "2025-08-09T12:48:44.675899Z",
     "start_time": "2025-08-09T12:48:44.656721Z"
    }
   },
   "cell_type": "code",
   "source": [
    "# Removed first row with Total\n",
    "df_combined = df_combined.iloc[1:]\n"
   ],
   "id": "d23f9d41278c3f0",
   "outputs": [],
   "execution_count": 11
  },
  {
   "metadata": {
    "ExecuteTime": {
     "end_time": "2025-08-09T12:48:44.707464Z",
     "start_time": "2025-08-09T12:48:44.692902Z"
    }
   },
   "cell_type": "code",
   "source": [
    "# Step 6: Save the cleaned file to output folder for loading into SQL DB in Milestone 5\n",
    "\n",
    "# Output file path\n",
    "output_dir = os.path.join('..', 'output')\n",
    "output_file = os.path.join(output_dir, 'Growing_Declining.csv')\n",
    "\n",
    "# Save as CSV\n",
    "df_combined.to_csv(output_file, index=False)\n",
    "\n",
    "# Verify the file was created\n",
    "if os.path.exists(output_file):\n",
    "    print(f\"File successfully saved to: {output_file}\")\n",
    "\n",
    "else:\n",
    "    print(\"Error: File was not created\")"
   ],
   "id": "cd944449c201ca67",
   "outputs": [
    {
     "name": "stdout",
     "output_type": "stream",
     "text": [
      "File successfully saved to: ..\\output\\Growing_Declining.csv\n"
     ]
    }
   ],
   "execution_count": 12
  },
  {
   "metadata": {
    "ExecuteTime": {
     "end_time": "2025-08-09T12:48:44.738050Z",
     "start_time": "2025-08-09T12:48:44.723909Z"
    }
   },
   "cell_type": "code",
   "source": [
    "# Preview the output file\n",
    "output_file = os.path.join('..', 'output', 'Growing_Declining.csv')\n",
    "try:\n",
    "    df_preview = pd.read_csv(output_file)\n",
    "    print(\"\\nGrowing and Declining Occupations:\")\n",
    "    pd.set_option('display.max_columns', None)\n",
    "    pd.set_option('display.width', None)\n",
    "    pd.set_option('display.max_colwidth', None)\n",
    "    print(df_preview.head().to_string(index=False))\n",
    "except FileNotFoundError:\n",
    "    print(f\"Error: File not found at {output_file}\")\n",
    "except Exception as e:\n",
    "    print(f\"An error occurred while reading the file: {e}\")"
   ],
   "id": "4df99b27d9779c92",
   "outputs": [
    {
     "name": "stdout",
     "output_type": "stream",
     "text": [
      "\n",
      "Growing and Declining Occupations:\n",
      "             2023_national_employment_matrix_title 2023_national_employment_matrix_code  employment_2023  employment_2033  employment_change_numeric_202333  employment_change_percent_202333  median_annual_wage_dollars_2024 growth_status  annual_change_rate  occupation_category\n",
      "                       Word Processors And Typists                              43-9022             39.9             24.8                             -15.2                             -38.0                          47850.0     Declining               -1.52                   43\n",
      "                              Roof Bolters, Mining                              47-5043              2.0              1.4                              -0.6                             -32.0                          76640.0     Declining               -0.06                   47\n",
      "                               Telephone Operators                              43-2021              4.7              3.5                              -1.2                             -26.4                          39130.0     Declining               -0.12                   43\n",
      "Switchboard Operators, Including Answering Service                              43-2011             44.9             33.6                             -11.3                             -25.2                          38370.0     Declining               -1.13                   43\n",
      "                                 Data Entry Keyers                              43-9021            163.9            122.8                             -41.0                             -25.0                          39850.0     Declining               -4.10                   43\n"
     ]
    }
   ],
   "execution_count": 13
  },
  {
   "metadata": {},
   "cell_type": "markdown",
   "source": "### Ethical Implications Of Data Wrangling U.S Bureau of Labor Statistics (BLS) Website Data",
   "id": "e673d1c7a8c33c6f"
  },
  {
   "metadata": {},
   "cell_type": "markdown",
   "source": [
    "While working with BLS HTML Tables \"Fastest Growing Occupations\" and \"Fastest Declining Occupations\", I performed the following cleaning and formatting steps:\n",
    "<br>\n",
    "#### **BLS Fastest Declining Occupations Table & BLS Fastest Declining Occupations Table Data Cleaning and formating steps:**\n",
    "- Read HTML Tables into data frames; have separate data frames for declining and growing occupations.<br>\n",
    "- Cleaned column names: removed spaces and converted to lowercase for easy access<br>\n",
    "- Removed footnotes<br>\n",
    "- Converted numeric columns to correct datatypes: using pd.to_numeric() with nullable integer types for whole numbers and using float64 type for percentages and decimal values.<br>\n",
    "- Merged declining and growing datasets and created a combined dataset.<br>\n",
    "- Added additional column 'growing status' to identify the source<br>\n",
    "- Calculated derived metrics: the annual change rate, cleaned occupational titles, and standardized formatting. Then, I applied them to the combined dataset.<br>\n",
    "- Verified Final dataset information for the combined dataset: datatypes, row counts, summary statistics, and occupational category distribution<br>\n",
    "- Column '2023_national_employment_matrix_code\" left blank - it will be merged in Milestone 5 with SOC data.<br>\n",
    "- Saved the cleaned file to the output folder for loading into SQL DB in Milestone 5\n",
    "- <br>\n",
    "\n",
    "#### **Ethical Implications:**\n",
    "Like SOC and NAICS datasets, these tables are from the BLS website - a public and trusted government source. Therefore, they are ethically safe to use for my research. However, during the wrangling process, there was a small risk that I made incorrect assumptions during data merging. However, the additional column 'growth_status'  refers to the original datasets. Also, the extra step, \"Verification of Final dataset,\" was created to ensure data quality: datatypes were verified after conversion, and the calculated metrics were validated.\n",
    "All changes to the original data were documented for future reference to avoid misinterpretation and stay responsible."
   ],
   "id": "ca71e7fd9b64085e"
  },
  {
   "metadata": {
    "SqlCellData": {
     "variableName$1": "df_sql1"
    },
    "ExecuteTime": {
     "end_time": "2025-08-09T12:48:44.744045200Z",
     "start_time": "2025-08-09T12:48:44.743042100Z"
    }
   },
   "cell_type": "code",
   "execution_count": null,
   "source": "%%sql\n",
   "id": "ea0d2bf25221d4a6",
   "outputs": []
  }
 ],
 "metadata": {
  "kernelspec": {
   "display_name": "Python [conda env:pycharm_env]",
   "language": "python",
   "name": "conda-env-pycharm_env-py"
  },
  "language_info": {
   "codemirror_mode": {
    "name": "ipython",
    "version": 2
   },
   "file_extension": ".py",
   "mimetype": "text/x-python",
   "name": "python",
   "nbconvert_exporter": "python",
   "pygments_lexer": "ipython2",
   "version": "2.7.6"
  }
 },
 "nbformat": 4,
 "nbformat_minor": 5
}
