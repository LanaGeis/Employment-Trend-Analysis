{
 "cells": [
  {
   "cell_type": "markdown",
   "id": "2ad7df06759930a7",
   "metadata": {},
   "source": [
    "# Term Project: Is AI taking our jobs or transforming them?\n",
    "\n",
    "Lana Geissinger\n",
    "Bellevue University\n",
    "DSC540_T303 Data Preparation (2257-1)\n",
    "Professor Catherine Williams\n",
    "Milestone 2\n",
    "June 29, 2025\n"
   ]
  },
  {
   "cell_type": "markdown",
   "id": "7d999c925bce0340",
   "metadata": {},
   "source": [
    "## <u>Cleaning/Formatting Flat File Source</u>"
   ]
  },
  {
   "cell_type": "code",
   "id": "fccd3ab4aac23a4e",
   "metadata": {
    "ExecuteTime": {
     "end_time": "2025-08-09T12:48:32.527060Z",
     "start_time": "2025-08-09T12:48:32.260517Z"
    }
   },
   "source": [
    "import os\n",
    "import pandas as pd\n",
    "from dotenv import load_dotenv\n",
    "\n",
    "\n"
   ],
   "outputs": [],
   "execution_count": 1
  },
  {
   "cell_type": "markdown",
   "id": "ac917f9ab77e2cfb",
   "metadata": {},
   "source": [
    "Load and preview data files with SOC and NAICS codes"
   ]
  },
  {
   "cell_type": "code",
   "id": "db6ae7f160e5405f",
   "metadata": {
    "ExecuteTime": {
     "end_time": "2025-08-09T12:48:32.711044Z",
     "start_time": "2025-08-09T12:48:32.682966Z"
    }
   },
   "source": [
    "# Load environment variables\n",
    "load_dotenv('../env_var.env')\n",
    "NAICS_codes_path = os.getenv('NAICS_codes_path')\n",
    "SOC_codes_path = os.getenv('SOC_codes_path')\n",
    "\n",
    "# Preview data\n",
    "if NAICS_codes_path and SOC_codes_path:\n",
    "    try:\n",
    "        df_NAICS = pd.read_csv(NAICS_codes_path, encoding='Windows-1252')\n",
    "        df_SOC = pd.read_csv(SOC_codes_path, encoding='Windows-1252')\n",
    "        print(\"DataFrame for NAICS Data:\")\n",
    "        print(df_NAICS.head(20))\n",
    "        print(df_NAICS.info())\n",
    "        print(\"DataFrame for SOC Data:\")\n",
    "        print(df_SOC.head(20))\n",
    "        print(df_SOC.info())\n",
    "    except FileNotFoundError as e:\n",
    "        print(f\"Error: {e}\")\n",
    "    except Exception as e:\n",
    "        print(f\"An unexpected error occurred: {e}\")\n",
    "else:\n",
    "    print(\"Error: One or both environment variables for file paths are not set or invalid.\")\n"
   ],
   "outputs": [
    {
     "name": "stdout",
     "output_type": "stream",
     "text": [
      "DataFrame for NAICS Data:\n",
      "   Sector                                               Name  \\\n",
      "0     NaN                                                NaN   \n",
      "1      11         Agriculture, Forestry, Fishing and Hunting   \n",
      "2      21      Mining, Quarrying, and Oil and Gas Extraction   \n",
      "3      22                                          Utilities   \n",
      "4      23                                       Construction   \n",
      "5   31-33                                      Manufacturing   \n",
      "6      42                                    Wholesale Trade   \n",
      "7   44-45                                       Retail Trade   \n",
      "8   48-49                     Transportation and Warehousing   \n",
      "9      51                                        Information   \n",
      "10     52                              Finance and Insurance   \n",
      "11     53                 Real Estate and Rental and Leasing   \n",
      "12     54   Professional, Scientific, and Technical Services   \n",
      "13     55            Management of Companies and Enterprises   \n",
      "14     56  Administrative and Support and Waste Managemen...   \n",
      "15     61                               Educational Services   \n",
      "16     62                  Health Care and Social Assistance   \n",
      "17     71                Arts, Entertainment, and Recreation   \n",
      "18     72                    Accommodation and Food Services   \n",
      "19     81      Other Services (except Public Administration)   \n",
      "\n",
      "    Subsectors (3-digit)  Industry Groups (4-digit)  \\\n",
      "0                    NaN                        NaN   \n",
      "1                    5.0                       19.0   \n",
      "2                    3.0                        5.0   \n",
      "3                    1.0                        3.0   \n",
      "4                    3.0                       10.0   \n",
      "5                   21.0                       86.0   \n",
      "6                    3.0                       19.0   \n",
      "7                    9.0                       24.0   \n",
      "8                   11.0                       29.0   \n",
      "9                    6.0                       11.0   \n",
      "10                   5.0                       11.0   \n",
      "11                   3.0                        8.0   \n",
      "12                   1.0                        9.0   \n",
      "13                   1.0                        1.0   \n",
      "14                   2.0                       11.0   \n",
      "15                   1.0                        7.0   \n",
      "16                   4.0                       18.0   \n",
      "17                   3.0                        9.0   \n",
      "18                   2.0                        6.0   \n",
      "19                   4.0                       14.0   \n",
      "\n",
      "    NAICS Industries (5-digit) 6-digit Industries       Unnamed: 6 Unnamed: 7  \n",
      "0                          NaN        U.S. Detail  Same as 5-digit      Total  \n",
      "1                         42.0                 32               32         64  \n",
      "2                         11.0                 14                7         21  \n",
      "3                          6.0                 10                4         14  \n",
      "4                         28.0                  4               27         31  \n",
      "5                        176.0                249               97        346  \n",
      "6                         69.0                  0               69         69  \n",
      "7                         48.0                 16               41         57  \n",
      "8                         42.0                 25               32         57  \n",
      "9                         24.0                 10               19         29  \n",
      "10                        27.0                 13               22         35  \n",
      "11                        17.0                 11               13         24  \n",
      "12                        35.0                 20               29         49  \n",
      "13                         1.0                  3                0          3  \n",
      "14                        29.0                 25               19         44  \n",
      "15                        12.0                  7               10         17  \n",
      "16                        30.0                 16               23         39  \n",
      "17                        23.0                  3               22         25  \n",
      "18                        10.0                  8                7         15  \n",
      "19                        30.0                 24               20         44  \n",
      "<class 'pandas.core.frame.DataFrame'>\n",
      "RangeIndex: 22 entries, 0 to 21\n",
      "Data columns (total 8 columns):\n",
      " #   Column                      Non-Null Count  Dtype  \n",
      "---  ------                      --------------  -----  \n",
      " 0   Sector                      20 non-null     object \n",
      " 1   Name                        21 non-null     object \n",
      " 2   Subsectors (3-digit)        21 non-null     float64\n",
      " 3   Industry Groups (4-digit)   21 non-null     float64\n",
      " 4   NAICS Industries (5-digit)  21 non-null     float64\n",
      " 5   6-digit Industries          22 non-null     object \n",
      " 6   Unnamed: 6                  22 non-null     object \n",
      " 7   Unnamed: 7                  22 non-null     object \n",
      "dtypes: float64(3), object(5)\n",
      "memory usage: 1.5+ KB\n",
      "None\n",
      "DataFrame for SOC Data:\n",
      "                      U.S. Bureau of Labor Statistics   Unnamed: 1  \\\n",
      "0   On behalf of the Office of Management and Budg...          NaN   \n",
      "1                                                 NaN          NaN   \n",
      "2     November 2017 (for reference year January 2018)          NaN   \n",
      "3   ***This is the final structure for the 2018 SO...          NaN   \n",
      "4                                                 NaN          NaN   \n",
      "5                                                 NaN          NaN   \n",
      "6                                         Major Group  Minor Group   \n",
      "7                                             11-0000          NaN   \n",
      "8                                                 NaN      11-1000   \n",
      "9                                                 NaN          NaN   \n",
      "10                                                NaN          NaN   \n",
      "11                                                NaN          NaN   \n",
      "12                                                NaN          NaN   \n",
      "13                                                NaN          NaN   \n",
      "14                                                NaN          NaN   \n",
      "15                                                NaN       Nov-00   \n",
      "16                                                NaN          NaN   \n",
      "17                                                NaN          NaN   \n",
      "18                                                NaN          NaN   \n",
      "19                                                NaN          NaN   \n",
      "\n",
      "     Unnamed: 2           Unnamed: 3  \\\n",
      "0           NaN                  NaN   \n",
      "1           NaN                  NaN   \n",
      "2           NaN                  NaN   \n",
      "3           NaN                  NaN   \n",
      "4           NaN                  NaN   \n",
      "5           NaN                  NaN   \n",
      "6   Broad Group  Detailed Occupation   \n",
      "7           NaN                  NaN   \n",
      "8           NaN                  NaN   \n",
      "9       11-1010                  NaN   \n",
      "10          NaN              11-1011   \n",
      "11      11-1020                  NaN   \n",
      "12          NaN              11-1021   \n",
      "13      11-1030                  NaN   \n",
      "14          NaN              11-1031   \n",
      "15          NaN                  NaN   \n",
      "16      11-2010                  NaN   \n",
      "17          NaN               Nov-11   \n",
      "18      11-2020                  NaN   \n",
      "19          NaN               Nov-21   \n",
      "\n",
      "                                           Unnamed: 4  \n",
      "0                                                 NaN  \n",
      "1                                                 NaN  \n",
      "2                                                 NaN  \n",
      "3                                                 NaN  \n",
      "4                                                 NaN  \n",
      "5                                                 NaN  \n",
      "6                                                 NaN  \n",
      "7                              Management Occupations  \n",
      "8                                      Top Executives  \n",
      "9                                    Chief Executives  \n",
      "10                                   Chief Executives  \n",
      "11                    General and Operations Managers  \n",
      "12                    General and Operations Managers  \n",
      "13                                        Legislators  \n",
      "14                                        Legislators  \n",
      "15  Advertising, Marketing, Promotions, Public Rel...  \n",
      "16                Advertising and Promotions Managers  \n",
      "17                Advertising and Promotions Managers  \n",
      "18                       Marketing and Sales Managers  \n",
      "19                                 Marketing Managers  \n",
      "<class 'pandas.core.frame.DataFrame'>\n",
      "RangeIndex: 1454 entries, 0 to 1453\n",
      "Data columns (total 5 columns):\n",
      " #   Column                           Non-Null Count  Dtype \n",
      "---  ------                           --------------  ----- \n",
      " 0   U.S. Bureau of Labor Statistics  27 non-null     object\n",
      " 1   Unnamed: 1                       99 non-null     object\n",
      " 2   Unnamed: 2                       460 non-null    object\n",
      " 3   Unnamed: 3                       868 non-null    object\n",
      " 4   Unnamed: 4                       1447 non-null   object\n",
      "dtypes: object(5)\n",
      "memory usage: 56.9+ KB\n",
      "None\n"
     ]
    }
   ],
   "execution_count": 2
  },
  {
   "cell_type": "markdown",
   "id": "f509c3c2efed2e8e",
   "metadata": {},
   "source": [
    "### Cleaning and Formatting SOC Data"
   ]
  },
  {
   "cell_type": "code",
   "id": "bf109f8f647a6a09",
   "metadata": {
    "ExecuteTime": {
     "end_time": "2025-08-09T12:48:32.771693Z",
     "start_time": "2025-08-09T12:48:32.756141Z"
    }
   },
   "source": [
    "# Step 1: Remove first 7 rows with metadata and whitespace\n",
    "print(df_SOC.iloc[:7])\n",
    "df_SOC = df_SOC.iloc[7:].copy()\n",
    "df_SOC = df_SOC.apply(lambda x: x.str.strip() if x.dtype == \"object\" else x)\n",
    "\n"
   ],
   "outputs": [
    {
     "name": "stdout",
     "output_type": "stream",
     "text": [
      "                     U.S. Bureau of Labor Statistics   Unnamed: 1  \\\n",
      "0  On behalf of the Office of Management and Budg...          NaN   \n",
      "1                                                NaN          NaN   \n",
      "2    November 2017 (for reference year January 2018)          NaN   \n",
      "3  ***This is the final structure for the 2018 SO...          NaN   \n",
      "4                                                NaN          NaN   \n",
      "5                                                NaN          NaN   \n",
      "6                                        Major Group  Minor Group   \n",
      "\n",
      "    Unnamed: 2           Unnamed: 3 Unnamed: 4  \n",
      "0          NaN                  NaN        NaN  \n",
      "1          NaN                  NaN        NaN  \n",
      "2          NaN                  NaN        NaN  \n",
      "3          NaN                  NaN        NaN  \n",
      "4          NaN                  NaN        NaN  \n",
      "5          NaN                  NaN        NaN  \n",
      "6  Broad Group  Detailed Occupation        NaN  \n"
     ]
    }
   ],
   "execution_count": 3
  },
  {
   "cell_type": "code",
   "id": "e8d66d807ba8d229",
   "metadata": {
    "ExecuteTime": {
     "end_time": "2025-08-09T12:48:32.805492Z",
     "start_time": "2025-08-09T12:48:32.797138Z"
    }
   },
   "source": [
    "# Step 2: Rename columns\n",
    "df_SOC = df_SOC.rename(columns={\n",
    "    'U.S. Bureau of Labor Statistics': 'major_group',\n",
    "    'Unnamed: 1': 'minor_group',\n",
    "    'Unnamed: 2': 'broad_group',\n",
    "    'Unnamed: 3': 'detailed_occupation',\n",
    "    'Unnamed: 4': 'occupation_title'\n",
    "})\n",
    "\n",
    "# Display the SOC Structure after renaming\n",
    "print(\"\\nSOC Structure:\")\n",
    "print(df_SOC.head())\n"
   ],
   "outputs": [
    {
     "name": "stdout",
     "output_type": "stream",
     "text": [
      "\n",
      "SOC Structure:\n",
      "   major_group minor_group broad_group detailed_occupation  \\\n",
      "7      11-0000         NaN         NaN                 NaN   \n",
      "8          NaN     11-1000         NaN                 NaN   \n",
      "9          NaN         NaN     11-1010                 NaN   \n",
      "10         NaN         NaN         NaN             11-1011   \n",
      "11         NaN         NaN     11-1020                 NaN   \n",
      "\n",
      "                   occupation_title  \n",
      "7            Management Occupations  \n",
      "8                    Top Executives  \n",
      "9                  Chief Executives  \n",
      "10                 Chief Executives  \n",
      "11  General and Operations Managers  \n"
     ]
    }
   ],
   "execution_count": 4
  },
  {
   "cell_type": "code",
   "id": "bafdbd35169aa189",
   "metadata": {
    "ExecuteTime": {
     "end_time": "2025-08-09T12:48:32.849605Z",
     "start_time": "2025-08-09T12:48:32.834976Z"
    }
   },
   "source": [
    "# Step 4: Forward fill the hierarchy levels\n",
    "df_SOC['major_group'] = df_SOC['major_group'].ffill()\n",
    "df_SOC['minor_group'] = df_SOC['minor_group'].ffill()\n",
    "df_SOC['broad_group'] = df_SOC['broad_group'].ffill()\n",
    "df_SOC['detailed_occupation'] = df_SOC['detailed_occupation'].ffill()\n",
    "df_SOC['occupation_title'] = df_SOC['occupation_title'].ffill()\n",
    "\n",
    "# Display the SOC Structure after filling hierarchy levels\n",
    "print(\"\\nSOC Structure:\")\n",
    "print(df_SOC.head())"
   ],
   "outputs": [
    {
     "name": "stdout",
     "output_type": "stream",
     "text": [
      "\n",
      "SOC Structure:\n",
      "   major_group minor_group broad_group detailed_occupation  \\\n",
      "7      11-0000         NaN         NaN                 NaN   \n",
      "8      11-0000     11-1000         NaN                 NaN   \n",
      "9      11-0000     11-1000     11-1010                 NaN   \n",
      "10     11-0000     11-1000     11-1010             11-1011   \n",
      "11     11-0000     11-1000     11-1020             11-1011   \n",
      "\n",
      "                   occupation_title  \n",
      "7            Management Occupations  \n",
      "8                    Top Executives  \n",
      "9                  Chief Executives  \n",
      "10                 Chief Executives  \n",
      "11  General and Operations Managers  \n"
     ]
    }
   ],
   "execution_count": 5
  },
  {
   "cell_type": "code",
   "id": "6cde02876ff98b5b",
   "metadata": {
    "ExecuteTime": {
     "end_time": "2025-08-09T12:48:32.880329Z",
     "start_time": "2025-08-09T12:48:32.866102Z"
    }
   },
   "source": [
    "# Check for null values\n",
    "print(\"\\nNull values:\")\n",
    "print(df_SOC.isnull().sum())"
   ],
   "outputs": [
    {
     "name": "stdout",
     "output_type": "stream",
     "text": [
      "\n",
      "Null values:\n",
      "major_group            0\n",
      "minor_group            1\n",
      "broad_group            2\n",
      "detailed_occupation    3\n",
      "occupation_title       0\n",
      "dtype: int64\n"
     ]
    }
   ],
   "execution_count": 6
  },
  {
   "cell_type": "code",
   "id": "52c4cd0f8a7501bd",
   "metadata": {
    "ExecuteTime": {
     "end_time": "2025-08-09T12:48:32.908078Z",
     "start_time": "2025-08-09T12:48:32.896255Z"
    }
   },
   "source": [
    "# Step 5.1: Remove rows where occupation_title is missing\n",
    "df_SOC = df_SOC.dropna(subset=['occupation_title'])\n",
    "\n",
    "# Reset index after removing rows\n",
    "df_SOC = df_SOC.reset_index(drop=True)\n",
    "\n",
    "# Display the result\n",
    "print(\"SOC DF Shape:\", df_SOC.shape)\n",
    "print(df_SOC.head())\n"
   ],
   "outputs": [
    {
     "name": "stdout",
     "output_type": "stream",
     "text": [
      "SOC DF Shape: (1447, 5)\n",
      "  major_group minor_group broad_group detailed_occupation  \\\n",
      "0     11-0000         NaN         NaN                 NaN   \n",
      "1     11-0000     11-1000         NaN                 NaN   \n",
      "2     11-0000     11-1000     11-1010                 NaN   \n",
      "3     11-0000     11-1000     11-1010             11-1011   \n",
      "4     11-0000     11-1000     11-1020             11-1011   \n",
      "\n",
      "                  occupation_title  \n",
      "0           Management Occupations  \n",
      "1                   Top Executives  \n",
      "2                 Chief Executives  \n",
      "3                 Chief Executives  \n",
      "4  General and Operations Managers  \n"
     ]
    }
   ],
   "execution_count": 7
  },
  {
   "cell_type": "code",
   "id": "bb4d974bb46844ef",
   "metadata": {
    "ExecuteTime": {
     "end_time": "2025-08-09T12:48:32.938405Z",
     "start_time": "2025-08-09T12:48:32.928236Z"
    }
   },
   "source": [
    "# Step 5.2: Remove rows where detailed_occupation is missing\n",
    "df_SOC = df_SOC.dropna(subset=['detailed_occupation'])\n",
    "\n",
    "# Reset index after removing rows\n",
    "df_SOC = df_SOC.reset_index(drop=True)\n",
    "\n",
    "# Display the result\n",
    "print(\"SSOC DF Shape:\", df_SOC.shape)\n",
    "print(df_SOC.head(10))\n"
   ],
   "outputs": [
    {
     "name": "stdout",
     "output_type": "stream",
     "text": [
      "SSOC DF Shape: (1444, 5)\n",
      "  major_group minor_group broad_group detailed_occupation  \\\n",
      "0     11-0000     11-1000     11-1010             11-1011   \n",
      "1     11-0000     11-1000     11-1020             11-1011   \n",
      "2     11-0000     11-1000     11-1020             11-1021   \n",
      "3     11-0000     11-1000     11-1030             11-1021   \n",
      "4     11-0000     11-1000     11-1030             11-1031   \n",
      "5     11-0000      Nov-00     11-1030             11-1031   \n",
      "6     11-0000      Nov-00     11-2010             11-1031   \n",
      "7     11-0000      Nov-00     11-2010              Nov-11   \n",
      "8     11-0000      Nov-00     11-2020              Nov-11   \n",
      "9     11-0000      Nov-00     11-2020              Nov-21   \n",
      "\n",
      "                                    occupation_title  \n",
      "0                                   Chief Executives  \n",
      "1                    General and Operations Managers  \n",
      "2                    General and Operations Managers  \n",
      "3                                        Legislators  \n",
      "4                                        Legislators  \n",
      "5  Advertising, Marketing, Promotions, Public Rel...  \n",
      "6                Advertising and Promotions Managers  \n",
      "7                Advertising and Promotions Managers  \n",
      "8                       Marketing and Sales Managers  \n",
      "9                                 Marketing Managers  \n"
     ]
    }
   ],
   "execution_count": 8
  },
  {
   "cell_type": "code",
   "id": "8bbcbca71f9df0a9",
   "metadata": {
    "ExecuteTime": {
     "end_time": "2025-08-09T12:48:33.004841Z",
     "start_time": "2025-08-09T12:48:32.955009Z"
    }
   },
   "source": [
    "# Step 6: Make sure all occupation codes look like XX-XXXX (not changed to dates like 'Nov-00')\n",
    "\n",
    "# Create function to convert to standard format\n",
    "def standardize_soc_code(code, major_group):\n",
    "\n",
    "    if pd.isna(code):\n",
    "        return code\n",
    "\n",
    "    code = str(code).strip()\n",
    "\n",
    "# If it's in \"Nov-XX\" format covert to standard format XX-XXXX where\n",
    "# Major Group: XX-0000 (first 2 digits significant, rest zeros)\n",
    "# Minor Group: XX-X000 (first 3 digits significant, rest zeros)\n",
    "# Broad Group: XX-XX00 (first 4 digits significant, rest zeros)\n",
    "# Detailed Occupation: XX-XXXX (all digits significant)\n",
    "\n",
    "    if 'Nov' in code or not '-' in code:\n",
    "        prefix = str(major_group)[:2]\n",
    "        numbers = ''.join(filter(str.isdigit, code))\n",
    "        numbers = numbers.zfill(4)\n",
    "        return f\"{prefix}-{numbers}\"\n",
    "\n",
    "    parts = code.split('-')\n",
    "    if len(parts) == 2:\n",
    "        prefix = str(major_group)[:2]\n",
    "        numbers = parts[1].zfill(4)\n",
    "        return f\"{prefix}-{numbers}\"\n",
    "\n",
    "    return code\n",
    "\n",
    "# Apply the standardization to each column\n",
    "df_SOC['minor_group'] = df_SOC.apply(\n",
    "    lambda row: standardize_soc_code(row['minor_group'], row['major_group']), axis=1)\n",
    "\n",
    "df_SOC['broad_group'] = df_SOC.apply(\n",
    "    lambda row: standardize_soc_code(row['broad_group'], row['major_group']), axis=1)\n",
    "\n",
    "df_SOC['detailed_occupation'] = df_SOC.apply(\n",
    "    lambda row: standardize_soc_code(row['detailed_occupation'], row['major_group']), axis=1)\n",
    "\n",
    "# Show result\n",
    "print(df_SOC[['major_group', 'minor_group', 'broad_group', 'detailed_occupation']].head(20))\n",
    "\n"
   ],
   "outputs": [
    {
     "name": "stdout",
     "output_type": "stream",
     "text": [
      "   major_group minor_group broad_group detailed_occupation\n",
      "0      11-0000     11-1000     11-1010             11-1011\n",
      "1      11-0000     11-1000     11-1020             11-1011\n",
      "2      11-0000     11-1000     11-1020             11-1021\n",
      "3      11-0000     11-1000     11-1030             11-1021\n",
      "4      11-0000     11-1000     11-1030             11-1031\n",
      "5      11-0000     11-0000     11-1030             11-1031\n",
      "6      11-0000     11-0000     11-2010             11-1031\n",
      "7      11-0000     11-0000     11-2010             11-0011\n",
      "8      11-0000     11-0000     11-2020             11-0011\n",
      "9      11-0000     11-0000     11-2020             11-0021\n",
      "10     11-0000     11-0000     11-2020             11-0022\n",
      "11     11-0000     11-0000     11-2030             11-0022\n",
      "12     11-0000     11-0000     11-2030             11-0032\n",
      "13     11-0000     11-0000     11-2030             11-0033\n",
      "14     11-0000     11-0000     11-2030             11-0033\n",
      "15     11-0000     11-0000     11-3010             11-0033\n",
      "16     11-0000     11-0000     11-3010             11-0012\n",
      "17     11-0000     11-0000     11-3010             11-0013\n",
      "18     11-0000     11-0000     11-3020             11-0013\n",
      "19     11-0000     11-0000     11-3020             11-0021\n"
     ]
    }
   ],
   "execution_count": 9
  },
  {
   "cell_type": "code",
   "id": "564dc50d7fe6c288",
   "metadata": {
    "ExecuteTime": {
     "end_time": "2025-08-09T12:48:33.035310Z",
     "start_time": "2025-08-09T12:48:33.020917Z"
    }
   },
   "source": [],
   "outputs": [],
   "execution_count": null
  },
  {
   "cell_type": "code",
   "id": "9f11fe6f63d4ef53",
   "metadata": {
    "ExecuteTime": {
     "end_time": "2025-08-09T12:48:33.081748Z",
     "start_time": "2025-08-09T12:48:33.061669Z"
    }
   },
   "source": [
    "# Step 6: Save the cleaned file to output folder for loading into SQL DB in Milestone 5\n",
    "\n",
    "# Define the output file path\n",
    "output_dir = os.path.join('..', 'output')\n",
    "output_file = os.path.join(output_dir, 'SOC_DB.csv')\n",
    "\n",
    "# Save as CSV\n",
    "df_SOC.to_csv(output_file, index=False)\n",
    "\n",
    "# Verify the file was created\n",
    "if os.path.exists(output_file):\n",
    "    print(f\"File successfully saved to: {output_file}\")\n",
    "\n",
    "else:\n",
    "    print(\"Error: File was not created\")\n",
    "\n"
   ],
   "outputs": [
    {
     "name": "stdout",
     "output_type": "stream",
     "text": [
      "File successfully saved to: ..\\output\\SOC_DB.csv\n"
     ]
    }
   ],
   "execution_count": 10
  },
  {
   "cell_type": "code",
   "id": "db2924436b440e9",
   "metadata": {
    "ExecuteTime": {
     "end_time": "2025-08-09T12:48:33.131875Z",
     "start_time": "2025-08-09T12:48:33.109947Z"
    }
   },
   "source": [
    "# Preview the output file\n",
    "output_file = os.path.join('..', 'output', 'SOC_DB.csv')\n",
    "\n",
    "try:\n",
    "\n",
    "    df_preview = pd.read_csv(output_file)\n",
    "    print(\"\\nSOC Structure Final:\")\n",
    "    print(df_preview.head(15))\n",
    "\n",
    "except FileNotFoundError:\n",
    "    print(f\"Error: File not found at {output_file}\")\n",
    "except Exception as e:\n",
    "    print(f\"An error occurred while reading the file: {e}\")\n"
   ],
   "outputs": [
    {
     "name": "stdout",
     "output_type": "stream",
     "text": [
      "\n",
      "SOC Structure Final:\n",
      "   major_group minor_group broad_group detailed_occupation  \\\n",
      "0      11-0000     11-1000     11-1010             11-1011   \n",
      "1      11-0000     11-1000     11-1020             11-1011   \n",
      "2      11-0000     11-1000     11-1020             11-1021   \n",
      "3      11-0000     11-1000     11-1030             11-1021   \n",
      "4      11-0000     11-1000     11-1030             11-1031   \n",
      "5      11-0000     11-0000     11-1030             11-1031   \n",
      "6      11-0000     11-0000     11-2010             11-1031   \n",
      "7      11-0000     11-0000     11-2010             11-0011   \n",
      "8      11-0000     11-0000     11-2020             11-0011   \n",
      "9      11-0000     11-0000     11-2020             11-0021   \n",
      "10     11-0000     11-0000     11-2020             11-0022   \n",
      "11     11-0000     11-0000     11-2030             11-0022   \n",
      "12     11-0000     11-0000     11-2030             11-0032   \n",
      "13     11-0000     11-0000     11-2030             11-0033   \n",
      "14     11-0000     11-0000     11-2030             11-0033   \n",
      "\n",
      "                                     occupation_title  \n",
      "0                                    Chief Executives  \n",
      "1                     General and Operations Managers  \n",
      "2                     General and Operations Managers  \n",
      "3                                         Legislators  \n",
      "4                                         Legislators  \n",
      "5   Advertising, Marketing, Promotions, Public Rel...  \n",
      "6                 Advertising and Promotions Managers  \n",
      "7                 Advertising and Promotions Managers  \n",
      "8                        Marketing and Sales Managers  \n",
      "9                                  Marketing Managers  \n",
      "10                                     Sales Managers  \n",
      "11          Public Relations and Fundraising Managers  \n",
      "12                          Public Relations Managers  \n",
      "13                               Fundraising Managers  \n",
      "14                    Operations Specialties Managers  \n"
     ]
    }
   ],
   "execution_count": 11
  },
  {
   "cell_type": "markdown",
   "id": "9ae62891bf239826",
   "metadata": {},
   "source": [
    "### Cleaning and Formatting NAICS Data"
   ]
  },
  {
   "cell_type": "code",
   "id": "78468b183b5b5108",
   "metadata": {
    "ExecuteTime": {
     "end_time": "2025-08-09T12:48:33.162304Z",
     "start_time": "2025-08-09T12:48:33.148192Z"
    }
   },
   "source": [
    "# Step 1.1: Remove whitespace\n",
    "df_NAICS = df_NAICS.apply(lambda x: x.str.strip() if x.dtype == \"object\" else x)"
   ],
   "outputs": [],
   "execution_count": 12
  },
  {
   "cell_type": "code",
   "id": "90e16639ca9a10f5",
   "metadata": {
    "ExecuteTime": {
     "end_time": "2025-08-09T12:48:33.193390Z",
     "start_time": "2025-08-09T12:48:33.179383Z"
    }
   },
   "source": [
    "# Step 1.2: Remove rows where the \"Sector\" column is empty\n",
    "df_NAICS = df_NAICS.loc[~df_NAICS['Sector'].isna()].copy()\n"
   ],
   "outputs": [],
   "execution_count": 13
  },
  {
   "cell_type": "code",
   "id": "bb0f41b1a9aad0d0",
   "metadata": {
    "ExecuteTime": {
     "end_time": "2025-08-09T12:48:33.242184Z",
     "start_time": "2025-08-09T12:48:33.224795Z"
    }
   },
   "source": [
    "# Step 2: Modify column names to remove sub-columns under \"6-digit Industries\"\n",
    "df_NAICS = df_NAICS.rename(columns={\n",
    "    'U. S. Census Bureau – NAICS structure by industry': 'Sector',\n",
    "    'Unnamed: 1': 'Name',\n",
    "    'Unnamed: 2': 'Subsectors (3-digit)',\n",
    "    'Unnamed: 3': 'detailed_occupation',\n",
    "    'Unnamed: 4': 'occupation_title',\n",
    "    'Unnamed: 5': '6-digit Industries - U.S. Detail',\n",
    "    'Unnamed: 6': '6-digit Industries - Same as 5-digit',\n",
    "    'Unnamed: 7': '6-digit Industries - Total'\n",
    "})\n",
    "\n",
    "\n",
    "# Display the NAICS Structure after renaming\n",
    "print(\"\\nNAICS structure by industry:\")\n",
    "print(df_NAICS.head(30))"
   ],
   "outputs": [
    {
     "name": "stdout",
     "output_type": "stream",
     "text": [
      "\n",
      "NAICS structure by industry:\n",
      "   Sector                                               Name  \\\n",
      "1      11         Agriculture, Forestry, Fishing and Hunting   \n",
      "2      21      Mining, Quarrying, and Oil and Gas Extraction   \n",
      "3      22                                          Utilities   \n",
      "4      23                                       Construction   \n",
      "5   31-33                                      Manufacturing   \n",
      "6      42                                    Wholesale Trade   \n",
      "7   44-45                                       Retail Trade   \n",
      "8   48-49                     Transportation and Warehousing   \n",
      "9      51                                        Information   \n",
      "10     52                              Finance and Insurance   \n",
      "11     53                 Real Estate and Rental and Leasing   \n",
      "12     54   Professional, Scientific, and Technical Services   \n",
      "13     55            Management of Companies and Enterprises   \n",
      "14     56  Administrative and Support and Waste Managemen...   \n",
      "15     61                               Educational Services   \n",
      "16     62                  Health Care and Social Assistance   \n",
      "17     71                Arts, Entertainment, and Recreation   \n",
      "18     72                    Accommodation and Food Services   \n",
      "19     81      Other Services (except Public Administration)   \n",
      "20     92                              Public Administration   \n",
      "\n",
      "    Subsectors (3-digit)  Industry Groups (4-digit)  \\\n",
      "1                    5.0                       19.0   \n",
      "2                    3.0                        5.0   \n",
      "3                    1.0                        3.0   \n",
      "4                    3.0                       10.0   \n",
      "5                   21.0                       86.0   \n",
      "6                    3.0                       19.0   \n",
      "7                    9.0                       24.0   \n",
      "8                   11.0                       29.0   \n",
      "9                    6.0                       11.0   \n",
      "10                   5.0                       11.0   \n",
      "11                   3.0                        8.0   \n",
      "12                   1.0                        9.0   \n",
      "13                   1.0                        1.0   \n",
      "14                   2.0                       11.0   \n",
      "15                   1.0                        7.0   \n",
      "16                   4.0                       18.0   \n",
      "17                   3.0                        9.0   \n",
      "18                   2.0                        6.0   \n",
      "19                   4.0                       14.0   \n",
      "20                   8.0                        8.0   \n",
      "\n",
      "    NAICS Industries (5-digit) 6-digit Industries  \\\n",
      "1                         42.0                 32   \n",
      "2                         11.0                 14   \n",
      "3                          6.0                 10   \n",
      "4                         28.0                  4   \n",
      "5                        176.0                249   \n",
      "6                         69.0                  0   \n",
      "7                         48.0                 16   \n",
      "8                         42.0                 25   \n",
      "9                         24.0                 10   \n",
      "10                        27.0                 13   \n",
      "11                        17.0                 11   \n",
      "12                        35.0                 20   \n",
      "13                         1.0                  3   \n",
      "14                        29.0                 25   \n",
      "15                        12.0                  7   \n",
      "16                        30.0                 16   \n",
      "17                        23.0                  3   \n",
      "18                        10.0                  8   \n",
      "19                        30.0                 24   \n",
      "20                        29.0                  0   \n",
      "\n",
      "   6-digit Industries - Same as 5-digit 6-digit Industries - Total  \n",
      "1                                    32                         64  \n",
      "2                                     7                         21  \n",
      "3                                     4                         14  \n",
      "4                                    27                         31  \n",
      "5                                    97                        346  \n",
      "6                                    69                         69  \n",
      "7                                    41                         57  \n",
      "8                                    32                         57  \n",
      "9                                    19                         29  \n",
      "10                                   22                         35  \n",
      "11                                   13                         24  \n",
      "12                                   29                         49  \n",
      "13                                    0                          3  \n",
      "14                                   19                         44  \n",
      "15                                   10                         17  \n",
      "16                                   23                         39  \n",
      "17                                   22                         25  \n",
      "18                                    7                         15  \n",
      "19                                   20                         44  \n",
      "20                                   29                         29  \n"
     ]
    }
   ],
   "execution_count": 14
  },
  {
   "cell_type": "code",
   "id": "76248e930ae7d1f1",
   "metadata": {
    "ExecuteTime": {
     "end_time": "2025-08-09T12:48:33.275695Z",
     "start_time": "2025-08-09T12:48:33.260604Z"
    }
   },
   "source": [
    "# Step 3: Create function to expand ranges in the dataframe\n",
    "def expand_ranges(df):\n",
    "    expanded_rows = []\n",
    "\n",
    "    for _, row in df.iterrows():\n",
    "        name = str(row['Sector'])\n",
    "        if '-' in name:\n",
    "            try:\n",
    "                start, end = map(int, name.split('-'))\n",
    "\n",
    "                for num in range(start, end + 1):\n",
    "                    new_row = row.copy()\n",
    "                    new_row['Sector'] = str(num)\n",
    "                    expanded_rows.append(new_row)\n",
    "            except ValueError:\n",
    "                expanded_rows.append(row)\n",
    "        else:\n",
    "            expanded_rows.append(row)\n",
    "\n",
    "    # Create new dataframe with expanded rows\n",
    "    return pd.DataFrame(expanded_rows)\n",
    "\n",
    "# Apply the expansion to the NAICS dataframe\n",
    "df_NAICS = expand_ranges(df_NAICS)\n",
    "\n",
    "# Reset index\n",
    "df_NAICS = df_NAICS.reset_index(drop=True)\n",
    "\n",
    "\n",
    "print(\"\\nNAICS structure by industry:\")\n",
    "print(df_NAICS)\n"
   ],
   "outputs": [
    {
     "name": "stdout",
     "output_type": "stream",
     "text": [
      "\n",
      "NAICS structure by industry:\n",
      "   Sector                                               Name  \\\n",
      "0      11         Agriculture, Forestry, Fishing and Hunting   \n",
      "1      21      Mining, Quarrying, and Oil and Gas Extraction   \n",
      "2      22                                          Utilities   \n",
      "3      23                                       Construction   \n",
      "4      31                                      Manufacturing   \n",
      "5      32                                      Manufacturing   \n",
      "6      33                                      Manufacturing   \n",
      "7      42                                    Wholesale Trade   \n",
      "8      44                                       Retail Trade   \n",
      "9      45                                       Retail Trade   \n",
      "10     48                     Transportation and Warehousing   \n",
      "11     49                     Transportation and Warehousing   \n",
      "12     51                                        Information   \n",
      "13     52                              Finance and Insurance   \n",
      "14     53                 Real Estate and Rental and Leasing   \n",
      "15     54   Professional, Scientific, and Technical Services   \n",
      "16     55            Management of Companies and Enterprises   \n",
      "17     56  Administrative and Support and Waste Managemen...   \n",
      "18     61                               Educational Services   \n",
      "19     62                  Health Care and Social Assistance   \n",
      "20     71                Arts, Entertainment, and Recreation   \n",
      "21     72                    Accommodation and Food Services   \n",
      "22     81      Other Services (except Public Administration)   \n",
      "23     92                              Public Administration   \n",
      "\n",
      "    Subsectors (3-digit)  Industry Groups (4-digit)  \\\n",
      "0                    5.0                       19.0   \n",
      "1                    3.0                        5.0   \n",
      "2                    1.0                        3.0   \n",
      "3                    3.0                       10.0   \n",
      "4                   21.0                       86.0   \n",
      "5                   21.0                       86.0   \n",
      "6                   21.0                       86.0   \n",
      "7                    3.0                       19.0   \n",
      "8                    9.0                       24.0   \n",
      "9                    9.0                       24.0   \n",
      "10                  11.0                       29.0   \n",
      "11                  11.0                       29.0   \n",
      "12                   6.0                       11.0   \n",
      "13                   5.0                       11.0   \n",
      "14                   3.0                        8.0   \n",
      "15                   1.0                        9.0   \n",
      "16                   1.0                        1.0   \n",
      "17                   2.0                       11.0   \n",
      "18                   1.0                        7.0   \n",
      "19                   4.0                       18.0   \n",
      "20                   3.0                        9.0   \n",
      "21                   2.0                        6.0   \n",
      "22                   4.0                       14.0   \n",
      "23                   8.0                        8.0   \n",
      "\n",
      "    NAICS Industries (5-digit) 6-digit Industries  \\\n",
      "0                         42.0                 32   \n",
      "1                         11.0                 14   \n",
      "2                          6.0                 10   \n",
      "3                         28.0                  4   \n",
      "4                        176.0                249   \n",
      "5                        176.0                249   \n",
      "6                        176.0                249   \n",
      "7                         69.0                  0   \n",
      "8                         48.0                 16   \n",
      "9                         48.0                 16   \n",
      "10                        42.0                 25   \n",
      "11                        42.0                 25   \n",
      "12                        24.0                 10   \n",
      "13                        27.0                 13   \n",
      "14                        17.0                 11   \n",
      "15                        35.0                 20   \n",
      "16                         1.0                  3   \n",
      "17                        29.0                 25   \n",
      "18                        12.0                  7   \n",
      "19                        30.0                 16   \n",
      "20                        23.0                  3   \n",
      "21                        10.0                  8   \n",
      "22                        30.0                 24   \n",
      "23                        29.0                  0   \n",
      "\n",
      "   6-digit Industries - Same as 5-digit 6-digit Industries - Total  \n",
      "0                                    32                         64  \n",
      "1                                     7                         21  \n",
      "2                                     4                         14  \n",
      "3                                    27                         31  \n",
      "4                                    97                        346  \n",
      "5                                    97                        346  \n",
      "6                                    97                        346  \n",
      "7                                    69                         69  \n",
      "8                                    41                         57  \n",
      "9                                    41                         57  \n",
      "10                                   32                         57  \n",
      "11                                   32                         57  \n",
      "12                                   19                         29  \n",
      "13                                   22                         35  \n",
      "14                                   13                         24  \n",
      "15                                   29                         49  \n",
      "16                                    0                          3  \n",
      "17                                   19                         44  \n",
      "18                                   10                         17  \n",
      "19                                   23                         39  \n",
      "20                                   22                         25  \n",
      "21                                    7                         15  \n",
      "22                                   20                         44  \n",
      "23                                   29                         29  \n"
     ]
    }
   ],
   "execution_count": 15
  },
  {
   "cell_type": "code",
   "id": "80b51f2abfae77f9",
   "metadata": {
    "ExecuteTime": {
     "end_time": "2025-08-09T12:48:33.305906Z",
     "start_time": "2025-08-09T12:48:33.291908Z"
    }
   },
   "source": [
    "# Step 4: Save the cleaned file to output folder for loading into SQL DB in Milestone 5\n",
    "\n",
    "# Output file path\n",
    "output_dir = os.path.join('..', 'output')\n",
    "output_file = os.path.join(output_dir, 'NAICS_DB.csv')\n",
    "\n",
    "# Save as CSV\n",
    "df_NAICS.to_csv(output_file, index=False)\n",
    "\n",
    "# Verify the file was created\n",
    "if os.path.exists(output_file):\n",
    "    print(f\"File successfully saved to: {output_file}\")\n",
    "\n",
    "else:\n",
    "    print(\"Error: File was not created\")"
   ],
   "outputs": [
    {
     "name": "stdout",
     "output_type": "stream",
     "text": [
      "File successfully saved to: ..\\output\\NAICS_DB.csv\n"
     ]
    }
   ],
   "execution_count": 16
  },
  {
   "cell_type": "code",
   "id": "b49e03a51ff78656",
   "metadata": {
    "ExecuteTime": {
     "end_time": "2025-08-09T12:48:33.341702Z",
     "start_time": "2025-08-09T12:48:33.331646Z"
    }
   },
   "source": [
    "# Preview the output file\n",
    "output_file = os.path.join('..', 'output', 'NAICS_DB.csv')\n",
    "try:\n",
    "    df_preview = pd.read_csv(output_file)\n",
    "    print(\"\\nNAICS Structure:\")\n",
    "    pd.set_option('display.max_columns', None)\n",
    "    pd.set_option('display.width', None)\n",
    "    pd.set_option('display.max_colwidth', None)\n",
    "    print(df_preview.head().to_string(index=False))\n",
    "except FileNotFoundError:\n",
    "    print(f\"Error: File not found at {output_file}\")\n",
    "except Exception as e:\n",
    "    print(f\"An error occurred while reading the file: {e}\")\n",
    "\n",
    "\n"
   ],
   "outputs": [
    {
     "name": "stdout",
     "output_type": "stream",
     "text": [
      "\n",
      "NAICS Structure:\n",
      " Sector                                          Name  Subsectors (3-digit)  Industry Groups (4-digit)  NAICS Industries (5-digit)  6-digit Industries  6-digit Industries - Same as 5-digit  6-digit Industries - Total\n",
      "     11    Agriculture, Forestry, Fishing and Hunting                   5.0                       19.0                        42.0                  32                                    32                          64\n",
      "     21 Mining, Quarrying, and Oil and Gas Extraction                   3.0                        5.0                        11.0                  14                                     7                          21\n",
      "     22                                     Utilities                   1.0                        3.0                         6.0                  10                                     4                          14\n",
      "     23                                  Construction                   3.0                       10.0                        28.0                   4                                    27                          31\n",
      "     31                                 Manufacturing                  21.0                       86.0                       176.0                 249                                    97                         346\n"
     ]
    }
   ],
   "execution_count": 17
  },
  {
   "metadata": {},
   "cell_type": "markdown",
   "source": [
    "During Milestone 5, the analysis approach was modified to focus on skills rather than occupations\n",
    "because the occupational data needed was discontinued through the BLS API. This change allowed for a more granular analysis of how AI impacts specific job skills rather than broad occupational categories.\n",
    "\n",
    "The following code was added to process the O*NET skills data:\n"
   ],
   "id": "7c30abfbc248244d"
  },
  {
   "metadata": {
    "ExecuteTime": {
     "end_time": "2025-08-09T12:48:33.650472Z",
     "start_time": "2025-08-09T12:48:33.360758Z"
    }
   },
   "cell_type": "code",
   "source": [
    "import pandas as pd\n",
    "\n",
    "with open('../data/Skills.csv', 'r', encoding='utf-8') as f:\n",
    "    skills_ONET_df = pd.read_csv(f)\n",
    "    skills_ONET_df.columns = skills_ONET_df.columns.str.lower().str.replace(' ', '_').str.replace('[^a-z0-9_]', '',\n",
    "                                                                                                  regex=True)\n",
    "    skills_ONET_df.to_csv('../output/skills_upd.csv', index=False)"
   ],
   "id": "df36b6c4722879e4",
   "outputs": [],
   "execution_count": 18
  },
  {
   "metadata": {},
   "cell_type": "markdown",
   "source": "### Ethical Implications Of Data Wrangling SOC and NAICS Codes Data",
   "id": "54011a088ec055b1"
  },
  {
   "metadata": {},
   "cell_type": "markdown",
   "source": [
    "While working with SOC and NAICS datasets, I performed the following cleaning and formating steps.\n",
    "<br>\n",
    "#### **SOC (Standard Occupational Classification) Data Cleaning and formating steps:**\n",
    "- Removed first 7 rows containing metadata<br>\n",
    "- Stripped whitespace from all string columns<br>\n",
    "- Renamed columns<br>\n",
    "- Forward filled hierarchy levels for all group columns<br>\n",
    "- Removed rows with missing occupation titles and missing detailed occupations<br>\n",
    "- Standardized occupation codes<br>\n",
    "- Saved cleaned data to 'SOC_DB.csv\" to output folder for loading into SQL DB in Milestone 5.<br>\n",
    "- <br>\n",
    "#### **NAICS (North American Industry Classification System) Data Cleaning and Formating Steps:**\n",
    "- Stripped whitespace from all string columns<br>\n",
    "- REmoved rows where the 'Sector' column was empty<br>\n",
    "- Renamed columns to remove sub-columns under \"6-digit Industries\"<br>\n",
    "- Created function  to expand ranges in 'Sector' column<br>\n",
    "- Expanded ranges into individual rows<br>\n",
    "- Saved cleaned data to 'NAICS_DB.csv\" to output folder for loading into SQL DB in Milestone 5.<br>\n",
    "- <br>\n",
    "#### **Ethical Implications:**\n",
    "These datasets are public and come from trusted government sources. Therefore, they are ethically safe to use for my research. However, during the wrangling process, there was a small risk that I made incorrect assumptions during forward-filling missing values or labeling split sectors. All changes to the original data were documented for future reference to avoid misinterpretation and stay responsible."
   ],
   "id": "5324ed527ec31b18"
  }
 ],
 "metadata": {
  "kernelspec": {
   "display_name": "Python [conda env:pycharm_env]",
   "language": "python",
   "name": "conda-env-pycharm_env-py"
  },
  "language_info": {
   "codemirror_mode": {
    "name": "ipython",
    "version": 3
   },
   "file_extension": ".py",
   "mimetype": "text/x-python",
   "name": "python",
   "nbconvert_exporter": "python",
   "pygments_lexer": "ipython3",
   "version": "3.10.18"
  }
 },
 "nbformat": 4,
 "nbformat_minor": 5
}
