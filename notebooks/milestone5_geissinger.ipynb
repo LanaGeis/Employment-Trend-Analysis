{
 "cells": [
  {
   "metadata": {},
   "cell_type": "markdown",
   "source": [
    "# Term Project: Is AI taking our jobs or transforming them?\n",
    "\n",
    "Lana Geissinger\n",
    "Bellevue University\n",
    "DSC540_T303 Data Preparation (2257-1)\n",
    "Professor Catherine Williams\n",
    "Milestone 5\n",
    "August, 10 2025\n"
   ],
   "id": "6d6f8c7373e0d320"
  },
  {
   "metadata": {},
   "cell_type": "markdown",
   "source": "## <u>Merging the Data and Storing in a Database/Visualizing Data</u>",
   "id": "1f7ff150e7f2abbf"
  },
  {
   "metadata": {
    "ExecuteTime": {
     "end_time": "2025-08-09T12:53:34.602099Z",
     "start_time": "2025-08-09T12:53:34.596875Z"
    }
   },
   "cell_type": "code",
   "source": [
    "import pandas as pd\n",
    "import json\n",
    "from dotenv import load_dotenv\n",
    "import sqlite3\n",
    "import duckdb\n",
    "\n",
    "\n"
   ],
   "id": "6d73b8b3b4c3e877",
   "outputs": [],
   "execution_count": 25
  },
  {
   "metadata": {
    "ExecuteTime": {
     "end_time": "2025-08-09T12:53:34.642640Z",
     "start_time": "2025-08-09T12:53:34.623976Z"
    }
   },
   "cell_type": "code",
   "source": [
    "# Create a connection to SQLite database\n",
    "conn = sqlite3.connect('../data/job_analysis.db')"
   ],
   "id": "987c7751e3891d32",
   "outputs": [],
   "execution_count": 26
  },
  {
   "metadata": {},
   "cell_type": "markdown",
   "source": [
    "Data Sources for Database Import:\n",
    "\n",
    "### Milestone 2 Files\n",
    "- **SOC_DB.csv**: Standard Occupational Classification database\n",
    "- **skills_upd.csv**: O*NET skills database\n",
    "- In Milestone 5, I shifted the focus from occupations to skills since the BLS API no longer provided the needed job data. This change allowed for a deeper look at how AI affects specific skills instead of broad job categories.<br>\n",
    "  - Source: [O*NET Skills Database](https://www.onetcenter.org/dictionary/29.3/excel/skills.html)<br>\n",
    "  - New transformations applied: Cleaned column names by removing special characters and whitespace, and converting all names to lowercase.\n",
    "\n",
    "### Milestone 3 Files  \n",
    "- **Growing_Declining.csv**: <br> employment trends\n",
    "- This file was created by combining and modifying two HTML tables: \"Fastest declining occupations\" table  and \"Fastest growing occupations\" table.<br>\n",
    "  - Additional transformations applied (Missed in Milestone3): cleaned columns names by removing special characters and replacing commas with underscores, and removing \"Total\" summary row.\n",
    "\n",
    "### Milestone 4 Files\n",
    "- **occupation_details_upd.json**: Detailed occupation information\n"
   ],
   "id": "f70b7982a5d2afd7",
   "attachments": {
    "974771c5-cb84-4dc0-acaf-10c551e6e657.png": {
     "image/png": "[encoded data removed]"
    }
   }
  },
  {
   "metadata": {
    "ExecuteTime": {
     "end_time": "2025-08-09T12:53:34.686410Z",
     "start_time": "2025-08-09T12:53:34.670228Z"
    }
   },
   "cell_type": "code",
   "source": [
    "DATA_PATHS = {\n",
    "    'soc': '../output/SOC_DB.csv', # flat file - Milestone 2\n",
    "    'employment': '../output/Growing_Declining.csv', # csv created from HTML tables\n",
    "    'occupation_details': '../api_responses/occupation_details_upd.json',\n",
    "    'skills': '../output/skills_upd.csv' # flat file - Milestone 2 (added skills to M2 from M5 for consistency in skill grouping)\n",
    "}\n"
   ],
   "id": "f255807f5062fe3d",
   "outputs": [],
   "execution_count": 27
  },
  {
   "metadata": {
    "ExecuteTime": {
     "end_time": "2025-08-09T12:53:34.711919Z",
     "start_time": "2025-08-09T12:53:34.706506Z"
    }
   },
   "cell_type": "code",
   "source": [
    "# Function to create SQLite database with proper tables\n",
    "def create_database(db_path='../data/job_analysis.db'):\n",
    "    try:\n",
    "        conn = sqlite3.connect(db_path)\n",
    "        print(\"✅ Database connection established\")\n",
    "        return conn\n",
    "    except sqlite3.Error as e:\n",
    "        print(f\"❌ Database connection failed: {e}\")\n",
    "        return None\n"
   ],
   "id": "213d468e50a5f37e",
   "outputs": [],
   "execution_count": 28
  },
  {
   "metadata": {
    "ExecuteTime": {
     "end_time": "2025-08-09T12:53:34.743825Z",
     "start_time": "2025-08-09T12:53:34.729466Z"
    }
   },
   "cell_type": "code",
   "source": [
    "# Function to load data into database\n",
    "def load_data(conn, data_paths):\n",
    "    try:\n",
    "        soc_df = pd.read_csv(data_paths['soc'])\n",
    "        employment_df = pd.read_csv(data_paths['employment'])\n",
    "        skills_df = pd.read_csv(data_paths['skills'])\n",
    "\n",
    "        with open(data_paths['occupation_details'], 'r') as f:\n",
    "            occupation_data = json.load(f)\n",
    "            occupation_df = pd.DataFrame(occupation_data['occupations'])\n",
    "\n",
    "        # Create tables\n",
    "        soc_df.to_sql('soc_codes', conn, if_exists='replace', index=False)\n",
    "        employment_df.to_sql('employment_trends', conn, if_exists='replace', index=False)\n",
    "        occupation_df.to_sql('occupation_details', conn, if_exists='replace', index=False)\n",
    "        skills_df.to_sql('skills', conn, if_exists='replace', index=False)\n",
    "\n",
    "        print(\"✅ All data loaded successfully\")\n",
    "        return True\n",
    "    except Exception as e:\n",
    "        print(f\"❌ Error loading data: {e}\")\n",
    "        return False\n"
   ],
   "id": "b5a9a7215526684b",
   "outputs": [],
   "execution_count": 29
  },
  {
   "metadata": {
    "ExecuteTime": {
     "end_time": "2025-08-09T12:53:34.774310Z",
     "start_time": "2025-08-09T12:53:34.760304Z"
    }
   },
   "cell_type": "code",
   "source": [
    "# Function to display column names for each table loaded in the database\n",
    "def show_table_columns(conn):\n",
    "    query = \"\"\"\n",
    "        SELECT name, type\n",
    "        FROM sqlite_master\n",
    "        WHERE type='table'\n",
    "    \"\"\"\n",
    "    try:\n",
    "        tables = pd.read_sql_query(query, conn)\n",
    "        for table in tables['name']:\n",
    "            print(f\"\\n📄 Columns in table '{table}':\")\n",
    "            df = pd.read_sql_query(f\"SELECT * FROM {table} LIMIT 1\", conn)\n",
    "            print(df.columns.tolist())\n",
    "    except Exception as e:\n",
    "        print(f\"❌ Error retrieving columns: {e}\")\n"
   ],
   "id": "50f05ebfde6879f9",
   "outputs": [],
   "execution_count": 30
  },
  {
   "metadata": {
    "ExecuteTime": {
     "end_time": "2025-08-09T12:53:35.120935Z",
     "start_time": "2025-08-09T12:53:34.803258Z"
    }
   },
   "cell_type": "code",
   "source": [
    "# Call function to confirm connection, data load and check column names before joining datasets together\n",
    "conn = create_database()\n",
    "load_data(conn, DATA_PATHS)\n",
    "show_table_columns(conn)"
   ],
   "id": "8cb70c336d3f84ac",
   "outputs": [
    {
     "name": "stdout",
     "output_type": "stream",
     "text": [
      "✅ Database connection established\n",
      "✅ All data loaded successfully\n",
      "\n",
      "📄 Columns in table 'occupation_skills':\n",
      "['occupation_title', 'employment_trend', 'onet_soc_code', 'soc_code', 'occupation_description', 'extracted_skills']\n",
      "\n",
      "📄 Columns in table 'soc_codes':\n",
      "['major_group', 'minor_group', 'broad_group', 'detailed_occupation', 'occupation_title']\n",
      "\n",
      "📄 Columns in table 'employment_trends':\n",
      "['2023_national_employment_matrix_title', '2023_national_employment_matrix_code', 'employment_2023', 'employment_2033', 'employment_change_numeric_202333', 'employment_change_percent_202333', 'median_annual_wage_dollars_2024', 'growth_status', 'annual_change_rate', 'occupation_category']\n",
      "\n",
      "📄 Columns in table 'occupation_details':\n",
      "['original_title', 'onet_code', 'description', 'job_family', '2023_national_employment_matrix_title', 'growth_status', 'soc_code']\n",
      "\n",
      "📄 Columns in table 'skills':\n",
      "['onetsoc_code', 'title', 'element_id', 'element_name', 'scale_id', 'scale_name', 'data_value', 'n', 'standard_error', 'lower_ci_bound', 'upper_ci_bound', 'recommend_suppress', 'not_relevant', 'date', 'domain_source']\n"
     ]
    }
   ],
   "execution_count": 31
  },
  {
   "metadata": {
    "ExecuteTime": {
     "end_time": "2025-08-09T12:53:35.157096Z",
     "start_time": "2025-08-09T12:53:35.141174Z"
    }
   },
   "cell_type": "code",
   "source": [
    "# Add onet_code column to employment_trends table using ALTER TABLE\n",
    "def add_column_to_table(conn):\n",
    "    try:\n",
    "        # Add the column\n",
    "        conn.execute(\"\"\"\n",
    "        ALTER TABLE employment_trends \n",
    "        ADD COLUMN onet_code TEXT;\n",
    "        \"\"\")\n",
    "        \n",
    "        # Update the column with values from occupation_details\n",
    "        conn.execute(\"\"\"\n",
    "        UPDATE employment_trends \n",
    "        SET onet_code = (\n",
    "            SELECT od.onet_code \n",
    "            FROM occupation_details od \n",
    "            WHERE od.soc_code = employment_trends.\"2023_national_employment_matrix_code\"\n",
    "        );\n",
    "        \"\"\")\n",
    "        \n",
    "        conn.commit()\n",
    "        print(\"✅ Added column successfully\")\n",
    "    except sqlite3.Error as e:\n",
    "        print(f\"❌ Error adding column: {e}\")"
   ],
   "id": "98a839351859510c",
   "outputs": [],
   "execution_count": 32
  },
  {
   "metadata": {
    "ExecuteTime": {
     "end_time": "2025-08-09T12:53:35.194892Z",
     "start_time": "2025-08-09T12:53:35.179328Z"
    }
   },
   "cell_type": "code",
   "source": "add_column_to_table(conn)",
   "id": "f86d9bc4fa74a2ba",
   "outputs": [
    {
     "name": "stdout",
     "output_type": "stream",
     "text": [
      "✅ Added column successfully\n"
     ]
    }
   ],
   "execution_count": 33
  },
  {
   "metadata": {
    "ExecuteTime": {
     "end_time": "2025-08-09T12:53:35.353986Z",
     "start_time": "2025-08-09T12:53:35.220578Z"
    }
   },
   "cell_type": "code",
   "source": [
    "# Create joins between tables using SQL\n",
    "def create_job_analysis_view(conn):\n",
    "    create_view_sql = \"\"\"\n",
    "                      CREATE VIEW IF NOT EXISTS job_analysis_view AS\n",
    "                      SELECT employment_trends.\"2023_national_employment_matrix_title\" AS occupation_title,\n",
    "                             employment_trends.\"2023_national_employment_matrix_code\",\n",
    "                             employment_trends.onet_code,\n",
    "                             employment_trends.growth_status,\n",
    "                             employment_trends.employment_2023,\n",
    "                             employment_trends.employment_2033,\n",
    "                             employment_trends.median_annual_wage_dollars_2024         AS median_annual_wage,\n",
    "                             occupation_details.description,\n",
    "                             soc_codes.major_group,\n",
    "                             soc_codes.minor_group,\n",
    "                             skills.element_name,\n",
    "                             skills.scale_id,\n",
    "                             skills.data_value\n",
    "                      FROM employment_trends\n",
    "                               LEFT JOIN occupation_details\n",
    "                                         ON employment_trends.\"2023_national_employment_matrix_code\" =\n",
    "                                            occupation_details.soc_code\n",
    "                               LEFT JOIN soc_codes\n",
    "                                         ON employment_trends.\"2023_national_employment_matrix_code\" =\n",
    "                                            soc_codes.detailed_occupation\n",
    "                               LEFT JOIN skills\n",
    "                                         ON employment_trends.onet_code = skills.onetsoc_code\"\"\"\n",
    "\n",
    "    try:\n",
    "        # Drop the view if it exists\n",
    "        conn.execute(\"DROP VIEW IF EXISTS job_analysis_view\")\n",
    "        # Create the new view\n",
    "        conn.execute(create_view_sql)\n",
    "        conn.commit()\n",
    "        print(\"✅ View created successfully\")\n",
    "        return True\n",
    "    except sqlite3.Error as e:\n",
    "        print(f\"❌ Error creating view: {e}\")\n",
    "        return False\n",
    "\n",
    "\n",
    "# Connect to database and create view\n",
    "conn_sqlite = sqlite3.connect('../data/job_analysis.db')\n",
    "create_job_analysis_view(conn_sqlite)\n",
    "\n",
    "# Query the view\n",
    "df = pd.read_sql_query(\"SELECT * FROM job_analysis_view\", conn_sqlite)\n",
    "\n",
    "# Use DuckDB to run SQL on DataFrames\n",
    "con_duck = duckdb.connect()\n",
    "con_duck.register('df', df)\n",
    "\n",
    "\n",
    "df_sql1 = con_duck.execute(\"\"\"\n",
    "                           SELECT *\n",
    "                           FROM df\n",
    "                           WHERE median_annual_wage > 60000 LIMIT 10;\n",
    "                           \"\"\").fetchdf()\n",
    "\n",
    "print(df_sql1)\n",
    "\n",
    "# Close connections\n",
    "conn_sqlite.close()\n",
    "con_duck.close()\n"
   ],
   "id": "ce38645ae89bd9de",
   "outputs": [
    {
     "name": "stdout",
     "output_type": "stream",
     "text": [
      "✅ View created successfully\n",
      "       occupation_title 2023_national_employment_matrix_code   onet_code  \\\n",
      "0  Roof Bolters, Mining                              47-5043  47-5043.00   \n",
      "1  Roof Bolters, Mining                              47-5043  47-5043.00   \n",
      "2  Roof Bolters, Mining                              47-5043  47-5043.00   \n",
      "3  Roof Bolters, Mining                              47-5043  47-5043.00   \n",
      "4  Roof Bolters, Mining                              47-5043  47-5043.00   \n",
      "5  Roof Bolters, Mining                              47-5043  47-5043.00   \n",
      "6  Roof Bolters, Mining                              47-5043  47-5043.00   \n",
      "7  Roof Bolters, Mining                              47-5043  47-5043.00   \n",
      "8  Roof Bolters, Mining                              47-5043  47-5043.00   \n",
      "9  Roof Bolters, Mining                              47-5043  47-5043.00   \n",
      "\n",
      "  growth_status  employment_2023  employment_2033  median_annual_wage  \\\n",
      "0     Declining              2.0              1.4             76640.0   \n",
      "1     Declining              2.0              1.4             76640.0   \n",
      "2     Declining              2.0              1.4             76640.0   \n",
      "3     Declining              2.0              1.4             76640.0   \n",
      "4     Declining              2.0              1.4             76640.0   \n",
      "5     Declining              2.0              1.4             76640.0   \n",
      "6     Declining              2.0              1.4             76640.0   \n",
      "7     Declining              2.0              1.4             76640.0   \n",
      "8     Declining              2.0              1.4             76640.0   \n",
      "9     Declining              2.0              1.4             76640.0   \n",
      "\n",
      "                                         description major_group minor_group  \\\n",
      "0  Operate machinery to install roof support bolt...     47-0000     47-5000   \n",
      "1  Operate machinery to install roof support bolt...     47-0000     47-5000   \n",
      "2  Operate machinery to install roof support bolt...     47-0000     47-5000   \n",
      "3  Operate machinery to install roof support bolt...     47-0000     47-5000   \n",
      "4  Operate machinery to install roof support bolt...     47-0000     47-5000   \n",
      "5  Operate machinery to install roof support bolt...     47-0000     47-5000   \n",
      "6  Operate machinery to install roof support bolt...     47-0000     47-5000   \n",
      "7  Operate machinery to install roof support bolt...     47-0000     47-5000   \n",
      "8  Operate machinery to install roof support bolt...     47-0000     47-5000   \n",
      "9  Operate machinery to install roof support bolt...     47-0000     47-5000   \n",
      "\n",
      "              element_name scale_id  data_value  \n",
      "0          Active Learning       IM        2.88  \n",
      "1          Active Learning       LV        2.88  \n",
      "2         Active Listening       IM        3.12  \n",
      "3         Active Listening       LV        2.88  \n",
      "4  Complex Problem Solving       IM        3.00  \n",
      "5  Complex Problem Solving       LV        2.38  \n",
      "6             Coordination       IM        3.00  \n",
      "7             Coordination       LV        3.50  \n",
      "8        Critical Thinking       IM        3.38  \n",
      "9        Critical Thinking       LV        3.00  \n"
     ]
    }
   ],
   "execution_count": 34
  },
  {
   "metadata": {
    "ExecuteTime": {
     "end_time": "2025-08-09T12:53:35.389342Z",
     "start_time": "2025-08-09T12:53:35.373517Z"
    }
   },
   "cell_type": "code",
   "source": [
    "def validate_database_setup():\n",
    "\n",
    "    print(\"🔍 Validating Database Setup\\n\")\n",
    "    \n",
    "    try:\n",
    "\n",
    "        conn = sqlite3.connect('../data/job_analysis.db')\n",
    "        print(\"✅ Database connection successful\")\n",
    "        \n",
    "\n",
    "        required_tables = ['soc_codes', 'employment_trends', 'occupation_details', 'skills']\n",
    "        cursor = conn.cursor()\n",
    "        existing_tables = cursor.execute(\n",
    "            \"SELECT name FROM sqlite_master WHERE type='table'\"\n",
    "        ).fetchall()\n",
    "        existing_tables = [table[0] for table in existing_tables]\n",
    "        \n",
    "        all_tables_exist = True\n",
    "        for table in required_tables:\n",
    "            if table in existing_tables:\n",
    "                row_count = cursor.execute(f\"SELECT COUNT(*) FROM {table}\").fetchone()[0]\n",
    "                print(f\"✅ {table}: {row_count} records\")\n",
    "            else:\n",
    "                print(f\"❌ Missing table: {table}\")\n",
    "                all_tables_exist = False\n",
    "        \n",
    "\n",
    "        view_exists = cursor.execute(\n",
    "            \"SELECT COUNT(*) FROM sqlite_master WHERE type='view' AND name='job_analysis_view'\"\n",
    "        ).fetchone()[0]\n",
    "        \n",
    "        if view_exists:\n",
    "            print(\"✅ job_analysis_view exists\")\n",
    "        else:\n",
    "            print(\"❌ job_analysis_view missing\")\n",
    "            all_tables_exist = False\n",
    "        \n",
    "        conn.close()\n",
    "        return all_tables_exist\n",
    "        \n",
    "    except sqlite3.Error as e:\n",
    "        print(f\"❌ Database validation failed: {e}\")\n",
    "        return False\n"
   ],
   "id": "4463f8d96a57a94d",
   "outputs": [],
   "execution_count": 35
  },
  {
   "metadata": {},
   "cell_type": "markdown",
   "source": [
    "Main function for setting up and validating job analysis database:\n",
    "1. Creates the database connection\n",
    "2. Loads initial data from files\n",
    "3. Adds the onet_code column to employment_trends\n",
    "4. Updates onet_code values from occupation_details\n",
    "5. Creates the analysis view\n",
    "6. Validates the database setup\n",
    "7. Shows sample data from the view\n"
   ],
   "id": "42f35c6eed2fc75a"
  },
  {
   "metadata": {
    "ExecuteTime": {
     "end_time": "2025-08-09T12:53:35.812872Z",
     "start_time": "2025-08-09T12:53:35.416557Z"
    }
   },
   "cell_type": "code",
   "source": [
    "def main():\n",
    "    print(\"🚀 Starting Job Analysis Database Setup\\n\")\n",
    "\n",
    "    try:\n",
    "\n",
    "        print(\"Step 1: Creating database connection...\")\n",
    "        conn = create_database()\n",
    "        if not conn:\n",
    "            raise Exception(\"Failed to create database connection\")\n",
    "\n",
    "        print(\"\\nStep 2: Loading data into tables...\")\n",
    "        if not load_data(conn, DATA_PATHS):\n",
    "            raise Exception(\"Failed to load data into tables\")\n",
    "\n",
    "        print(\"\\nStep 3: Adding onet_code column...\")\n",
    "        try:\n",
    "            conn.execute(\"\"\"\n",
    "                         ALTER TABLE employment_trends\n",
    "                             ADD COLUMN onet_code TEXT;\n",
    "                         \"\"\")\n",
    "            print(\"✅ Added onet_code column\")\n",
    "        except sqlite3.OperationalError:\n",
    "            print(\"ℹ️ onet_code column already exists\")\n",
    "\n",
    "        print(\"\\nStep 4: Updating onet_code values...\")\n",
    "        update_query = \"\"\"\n",
    "                       UPDATE employment_trends\n",
    "                       SET onet_code = (SELECT occupation_details.onet_code\n",
    "                                        FROM occupation_details\n",
    "                                        WHERE occupation_details.soc_code =\n",
    "                                              employment_trends.\"2023_national_employment_matrix_code\"\n",
    "                           LIMIT 1\n",
    "                           ); \\\n",
    "                       \"\"\"\n",
    "        conn.execute(update_query)\n",
    "        conn.commit()\n",
    "        print(\"✅ Updated onet_code values\")\n",
    "\n",
    "        print(\"\\nStep 5: Creating analysis view...\")\n",
    "        try:\n",
    "            conn.execute(\"DROP VIEW IF EXISTS job_analysis_view\")\n",
    "            create_job_analysis_view(conn)\n",
    "            print(\"✅ Created job_analysis_view\")\n",
    "        except sqlite3.Error as e:\n",
    "            print(f\"❌ Error creating view: {e}\")\n",
    "            raise e\n",
    "\n",
    "        print(\"\\nStep 6: Validating database setup...\")\n",
    "        success = validate_database_setup()\n",
    "        if success:\n",
    "            print(\"\\n✨ Database setup is valid!\")\n",
    "        else:\n",
    "            print(\"\\n⚠️ Database setup needs attention!\")\n",
    "\n",
    "        print(\"\\nStep 7: Showing sample data from view...\")\n",
    "        sample_query = \"\"\"\n",
    "                       SELECT occupation_title,\n",
    "                              growth_status,\n",
    "                              median_annual_wage,\n",
    "                              major_group,\n",
    "                              element_name,\n",
    "                              scale_id,\n",
    "                              data_value\n",
    "                       FROM job_analysis_view LIMIT 5; \\\n",
    "                       \"\"\"\n",
    "        sample_data = pd.read_sql_query(sample_query, conn)\n",
    "        print(\"\\nSample data from job_analysis_view:\")\n",
    "        print(sample_data)\n",
    "\n",
    "        print(\"\\n✅ Database setup completed successfully!\")\n",
    "\n",
    "    except Exception as e:\n",
    "        print(f\"\\n❌ Setup failed: {str(e)}\")\n",
    "    finally:\n",
    "        if 'conn' in locals():\n",
    "            conn.close()\n",
    "            print(\"\\nDatabase connection closed\")\n",
    "\n",
    "\n",
    "if __name__ == \"__main__\":\n",
    "    main()\n"
   ],
   "id": "53603d8078d10645",
   "outputs": [
    {
     "name": "stdout",
     "output_type": "stream",
     "text": [
      "🚀 Starting Job Analysis Database Setup\n",
      "\n",
      "Step 1: Creating database connection...\n",
      "✅ Database connection established\n",
      "\n",
      "Step 2: Loading data into tables...\n",
      "✅ All data loaded successfully\n",
      "\n",
      "Step 3: Adding onet_code column...\n",
      "✅ Added onet_code column\n",
      "\n",
      "Step 4: Updating onet_code values...\n",
      "✅ Updated onet_code values\n",
      "\n",
      "Step 5: Creating analysis view...\n",
      "✅ View created successfully\n",
      "✅ Created job_analysis_view\n",
      "\n",
      "Step 6: Validating database setup...\n",
      "🔍 Validating Database Setup\n",
      "\n",
      "✅ Database connection successful\n",
      "✅ soc_codes: 1444 records\n",
      "✅ employment_trends: 61 records\n",
      "✅ occupation_details: 81 records\n",
      "✅ skills: 61530 records\n",
      "✅ job_analysis_view exists\n",
      "\n",
      "✨ Database setup is valid!\n",
      "\n",
      "Step 7: Showing sample data from view...\n",
      "\n",
      "Sample data from job_analysis_view:\n",
      "              occupation_title growth_status  median_annual_wage major_group  \\\n",
      "0  Word Processors And Typists     Declining             47850.0     43-0000   \n",
      "1  Word Processors And Typists     Declining             47850.0     43-0000   \n",
      "2  Word Processors And Typists     Declining             47850.0     43-0000   \n",
      "3  Word Processors And Typists     Declining             47850.0     43-0000   \n",
      "4  Word Processors And Typists     Declining             47850.0     43-0000   \n",
      "\n",
      "              element_name scale_id  data_value  \n",
      "0          Active Learning       IM        2.25  \n",
      "1          Active Learning       LV        2.00  \n",
      "2         Active Listening       IM        3.25  \n",
      "3         Active Listening       LV        3.12  \n",
      "4  Complex Problem Solving       IM        2.00  \n",
      "\n",
      "✅ Database setup completed successfully!\n",
      "\n",
      "Database connection closed\n"
     ]
    }
   ],
   "execution_count": 36
  },
  {
   "metadata": {},
   "cell_type": "markdown",
   "source": "### Ethical Implications Of Merging the Data and Storing in a Database",
   "id": "27aae1f28658e812"
  },
  {
   "metadata": {},
   "cell_type": "markdown",
   "source": [
    "While merging the data and storing it in a database, I performed the following steps:\n",
    "<br>\n",
    "- Created SQLite database\n",
    "- Loaded data from the files into tables\n",
    "- Combined tables into a single dataset\n",
    "- Validated the database setup (schema, raw counts, and key fields)\n",
    "\n",
    "#### **Ethical Implications:**\n",
    "Data was collected from publicly available resources, BLS and O*NET,and usesd for research in line with their terms of use.<br>\n",
    "There is a small risk of losing context when removing special characters or footnotes.<br>\n",
    "Also, merging sources can create duplicate records, and reframing from occupation to skills may change interpretation. All changes were documented for future reference.\n"
   ],
   "id": "48da75d1a6f7d250"
  }
 ],
 "metadata": {
  "kernelspec": {
   "display_name": "Python 3 (ipykernel)",
   "language": "python",
   "name": "python3"
  },
  "language_info": {
   "codemirror_mode": {
    "name": "ipython",
    "version": 2
   },
   "file_extension": ".py",
   "mimetype": "text/x-python",
   "name": "python",
   "nbconvert_exporter": "python",
   "pygments_lexer": "ipython2",
   "version": "2.7.6"
  }
 },
 "nbformat": 4,
 "nbformat_minor": 5
}
