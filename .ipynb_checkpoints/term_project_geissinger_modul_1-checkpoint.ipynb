{
 "cells": [
  {
   "metadata": {},
   "cell_type": "markdown",
   "source": [
    "<div align=\"center\">\n",
    "Term Project:  Is AI taking our jobs or creating new ones?<br>\n",
    "Lana Geissinger<br>\n",
    "Bellevue University<br>\n",
    "DSC540_T303 Data Preparation (2257-1)<br>\n",
    "Professor Catherine Williams<br>\n",
    "Milestone 1<br>\n",
    "June 15, 2025\n",
    "<div align=\"center\">\n"
   ],
   "id": "3bc5a8c1dc7e6f7e"
  },
  {
   "metadata": {},
   "cell_type": "markdown",
   "source": [
    "<div>\n",
    "Project Subject Area:<br>\n",
    "This project will explore how artificial intelligence is impacting the U.S. job market—specifically whether AI technologies are replacing human workers or creating new job categories. I will use employment trend data, tech adoption data, and industry-level projections to analyze the effects of AI.\n",
    "</div>\n"
   ],
   "id": "6dde13579b4d0ec6"
  },
  {
   "metadata": {},
   "cell_type": "markdown",
   "source": [
    "<div>\n",
    "Data Sources:<br>\n",
    "\n",
    "</div>\n"
   ],
   "id": "5b2618db48711f6a"
  },
  {
   "metadata": {},
   "cell_type": "markdown",
   "source": [
    "<div>\n",
    "Flat File<br>\n",
    "Description of data source: <br>\tU.S. job market trends by occupation, including employment levels, wages, and job growth/decline. May 2015 (pre-AI) vs May 2024 (with potential AI impact)<br>\n",
    "Link:<br> https://www.bls.gov/oes/tables.htm\n",
    "</div>"
   ],
   "id": "62316ffa98384126"
  },
  {
   "metadata": {},
   "cell_type": "markdown",
   "source": [
    "<div>\n",
    "API<br>\n",
    "Description of data source:<br>\n",
    "Bureau of Labor Statistics Public Data API.<br>\n",
    "This API provides programmatic access to current and historical labor market data, including employment levels, wages, and job projections by occupation (based on SOC codes). We will use the API to supplement the flat file with real-time and projected employment statistics.<br>\n",
    "Link:<br>\n",
    "https://www.bls.gov/developers/api_signature_v2.htm - Documentation<br>\n",
    "https://www.bls.gov/developers/ - API\n",
    "</div>\n",
    "\n"
   ],
   "id": "1a1e1b3aa6e03b5a"
  },
  {
   "metadata": {},
   "cell_type": "markdown",
   "source": [
    "<div>\n",
    "Website<br>\n",
    "Description of data source:<br>\n",
    "LinkedIn’s Economic Graph. A digital representation of the global economy<br>\n",
    "Link:<br>\n",
    "https://economicgraph.linkedin.com/\n",
    "</div>\n"
   ],
   "id": "dbe133a9183b51ed"
  },
  {
   "metadata": {},
   "cell_type": "markdown",
   "source": [
    "<div>\n",
    "Relationships<br>\n",
    "All three sources—flat file, API, and website—focus on employment trends and occupational data in the U.S. labor market, making them complementary:<br>\n",
    "The flat file from BLS (May 2015 and May 2024 OEWS reports) provides historical and current employment levels and wages by occupation.<br>\n",
    "The BLS API offers real-time and projected data on the same occupations (using SOC codes), allowing for dynamic comparisons and updates.<br>\n",
    "The LinkedIn Economic Graph provides qualitative insights into hiring trends, emerging AI-related job titles, and in-demand skills—helping explain the \"why\" behind changes in job data seen in the BLS sources.<br>\n",
    "All sources can be linked through Standard Occupational Classification (SOC) codes and industry categories, enabling comparison across time and source types.\n"
   ],
   "id": "d285a66788974052"
  },
  {
   "metadata": {
    "jupyter": {
     "is_executing": true
    }
   },
   "cell_type": "code",
   "source": [
    "import pandas as pd\n",
    "file_path = r\"C:\\Users\\geiss\\PycharmProjects\\Term_Project_Geissinger\\data\\national_M2024_dl.csv\"\n",
    "df = pd.read_csv(file_path)\n",
    "print(df.head())\n",
    "print(df.info())\n"
   ],
   "id": "108376b7728f0801",
   "outputs": [],
   "execution_count": null
  },
  {
   "metadata": {},
   "cell_type": "code",
   "outputs": [],
   "execution_count": null,
   "source": "",
   "id": "67228a781d77e6e2"
  }
 ],
 "metadata": {
  "kernelspec": {
   "display_name": "Python 3",
   "language": "python",
   "name": "python3"
  },
  "language_info": {
   "codemirror_mode": {
    "name": "ipython",
    "version": 2
   },
   "file_extension": ".py",
   "mimetype": "text/x-python",
   "name": "python",
   "nbconvert_exporter": "python",
   "pygments_lexer": "ipython2",
   "version": "2.7.6"
  }
 },
 "nbformat": 4,
 "nbformat_minor": 5
}
